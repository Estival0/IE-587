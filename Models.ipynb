{
 "cells": [
  {
   "cell_type": "code",
   "execution_count": 2,
   "id": "832762ac",
   "metadata": {
    "executionInfo": {
     "elapsed": 8693,
     "status": "ok",
     "timestamp": 1700086851973,
     "user": {
      "displayName": "Qizheng Xia",
      "userId": "07735350061252297066"
     },
     "user_tz": 360
    },
    "id": "832762ac"
   },
   "outputs": [],
   "source": [
    "#import pyedflib\n",
    "import pandas as pd\n",
    "import matplotlib.pyplot as plt\n",
    "import numpy as np\n",
    "import time\n",
    "\n",
    "from scipy.stats import entropy\n",
    "from scipy.signal import butter, lfilter\n",
    "from scipy.signal import welch\n",
    "\n",
    "from sympy import symbols, integrate, exp, sqrt, pi\n",
    "from scipy.stats import norm\n",
    "\n",
    "from collections import Counter\n",
    "\n",
    "import seaborn as sns\n",
    "\n",
    "from sklearn.model_selection import train_test_split, GridSearchCV\n",
    "from sklearn.preprocessing import StandardScaler\n",
    "from sklearn.svm import SVC\n",
    "from sklearn.neighbors import KNeighborsClassifier\n",
    "from sklearn.linear_model import LogisticRegression\n",
    "from sklearn.neural_network import MLPClassifier\n",
    "from sklearn.preprocessing import LabelEncoder, StandardScaler\n",
    "from sklearn.preprocessing import MinMaxScaler, StandardScaler\n",
    "from sklearn.metrics import accuracy_score, cohen_kappa_score, confusion_matrix\n",
    "from sklearn.ensemble import RandomForestClassifier\n",
    "\n",
    "from imblearn.over_sampling import SMOTE\n",
    "from imblearn.under_sampling import RandomUnderSampler\n",
    "from imblearn.pipeline import Pipeline\n",
    "\n",
    "import torch\n",
    "import torch.nn as nn\n",
    "from torch.utils.data import DataLoader, TensorDataset, random_split\n",
    "import torch.optim as optim\n",
    "import torch.nn.functional as F"
   ]
  },
  {
   "cell_type": "code",
   "execution_count": 3,
   "id": "ed49c499",
   "metadata": {
    "executionInfo": {
     "elapsed": 155,
     "status": "ok",
     "timestamp": 1700087160495,
     "user": {
      "displayName": "Qizheng Xia",
      "userId": "07735350061252297066"
     },
     "user_tz": 360
    },
    "id": "ed49c499"
   },
   "outputs": [],
   "source": [
    "import warnings\n",
    "warnings.filterwarnings('ignore', category=FutureWarning)"
   ]
  },
  {
   "cell_type": "code",
   "execution_count": 4,
   "id": "192416da",
   "metadata": {
    "executionInfo": {
     "elapsed": 559,
     "status": "ok",
     "timestamp": 1700087246083,
     "user": {
      "displayName": "Qizheng Xia",
      "userId": "07735350061252297066"
     },
     "user_tz": 360
    },
    "id": "192416da"
   },
   "outputs": [],
   "source": [
    "features = pd.read_csv('features.csv')"
   ]
  },
  {
   "cell_type": "code",
   "execution_count": 5,
   "id": "c18abb54",
   "metadata": {
    "id": "c18abb54",
    "outputId": "c1c871f1-0835-418a-8576-00e63b014859"
   },
   "outputs": [
    {
     "data": {
      "text/html": [
       "<div>\n",
       "<style scoped>\n",
       "    .dataframe tbody tr th:only-of-type {\n",
       "        vertical-align: middle;\n",
       "    }\n",
       "\n",
       "    .dataframe tbody tr th {\n",
       "        vertical-align: top;\n",
       "    }\n",
       "\n",
       "    .dataframe thead th {\n",
       "        text-align: right;\n",
       "    }\n",
       "</style>\n",
       "<table border=\"1\" class=\"dataframe\">\n",
       "  <thead>\n",
       "    <tr style=\"text-align: right;\">\n",
       "      <th></th>\n",
       "      <th>EEG1_HC</th>\n",
       "      <th>EEG2_HC</th>\n",
       "      <th>EEG3_HC</th>\n",
       "      <th>EEG4_HC</th>\n",
       "      <th>EEG1_SE</th>\n",
       "      <th>EEG2_SE</th>\n",
       "      <th>EEG3_SE</th>\n",
       "      <th>EEG4_SE</th>\n",
       "      <th>EEG1_DE</th>\n",
       "      <th>EEG2_DE</th>\n",
       "      <th>...</th>\n",
       "      <th>EEG2_AE</th>\n",
       "      <th>EEG3_AE</th>\n",
       "      <th>EEG4_AE</th>\n",
       "      <th>DTW12</th>\n",
       "      <th>DTW13</th>\n",
       "      <th>DTW14</th>\n",
       "      <th>DTW23</th>\n",
       "      <th>DTW24</th>\n",
       "      <th>DTW34</th>\n",
       "      <th>Stage</th>\n",
       "    </tr>\n",
       "  </thead>\n",
       "  <tbody>\n",
       "    <tr>\n",
       "      <th>0</th>\n",
       "      <td>0.290820</td>\n",
       "      <td>0.267599</td>\n",
       "      <td>0.335005</td>\n",
       "      <td>0.340770</td>\n",
       "      <td>2.173185</td>\n",
       "      <td>2.291572</td>\n",
       "      <td>2.123666</td>\n",
       "      <td>2.256856</td>\n",
       "      <td>0.712265</td>\n",
       "      <td>0.701614</td>\n",
       "      <td>...</td>\n",
       "      <td>1.878138</td>\n",
       "      <td>2.118630</td>\n",
       "      <td>2.029427</td>\n",
       "      <td>0.016962</td>\n",
       "      <td>0.017800</td>\n",
       "      <td>0.018340</td>\n",
       "      <td>0.016169</td>\n",
       "      <td>0.016413</td>\n",
       "      <td>0.017353</td>\n",
       "      <td>W</td>\n",
       "    </tr>\n",
       "    <tr>\n",
       "      <th>1</th>\n",
       "      <td>0.546924</td>\n",
       "      <td>0.515472</td>\n",
       "      <td>0.467571</td>\n",
       "      <td>0.534379</td>\n",
       "      <td>2.255793</td>\n",
       "      <td>2.242239</td>\n",
       "      <td>2.268926</td>\n",
       "      <td>2.172522</td>\n",
       "      <td>0.718175</td>\n",
       "      <td>0.720605</td>\n",
       "      <td>...</td>\n",
       "      <td>1.818256</td>\n",
       "      <td>1.935162</td>\n",
       "      <td>1.769035</td>\n",
       "      <td>0.016084</td>\n",
       "      <td>0.016265</td>\n",
       "      <td>0.017456</td>\n",
       "      <td>0.015162</td>\n",
       "      <td>0.016169</td>\n",
       "      <td>0.016867</td>\n",
       "      <td>W</td>\n",
       "    </tr>\n",
       "    <tr>\n",
       "      <th>2</th>\n",
       "      <td>0.568201</td>\n",
       "      <td>0.396790</td>\n",
       "      <td>0.462065</td>\n",
       "      <td>0.335742</td>\n",
       "      <td>2.378528</td>\n",
       "      <td>2.149019</td>\n",
       "      <td>2.206753</td>\n",
       "      <td>2.179514</td>\n",
       "      <td>0.749171</td>\n",
       "      <td>0.769257</td>\n",
       "      <td>...</td>\n",
       "      <td>1.635736</td>\n",
       "      <td>1.875498</td>\n",
       "      <td>1.922582</td>\n",
       "      <td>0.014763</td>\n",
       "      <td>0.015663</td>\n",
       "      <td>0.016833</td>\n",
       "      <td>0.014854</td>\n",
       "      <td>0.016905</td>\n",
       "      <td>0.016456</td>\n",
       "      <td>W</td>\n",
       "    </tr>\n",
       "    <tr>\n",
       "      <th>3</th>\n",
       "      <td>0.727172</td>\n",
       "      <td>0.587920</td>\n",
       "      <td>0.556282</td>\n",
       "      <td>0.457914</td>\n",
       "      <td>2.196304</td>\n",
       "      <td>2.173284</td>\n",
       "      <td>2.374547</td>\n",
       "      <td>2.103550</td>\n",
       "      <td>0.747833</td>\n",
       "      <td>0.760236</td>\n",
       "      <td>...</td>\n",
       "      <td>1.709370</td>\n",
       "      <td>1.820107</td>\n",
       "      <td>1.793391</td>\n",
       "      <td>0.015093</td>\n",
       "      <td>0.015383</td>\n",
       "      <td>0.016541</td>\n",
       "      <td>0.014723</td>\n",
       "      <td>0.016172</td>\n",
       "      <td>0.016346</td>\n",
       "      <td>W</td>\n",
       "    </tr>\n",
       "    <tr>\n",
       "      <th>4</th>\n",
       "      <td>0.372004</td>\n",
       "      <td>0.489312</td>\n",
       "      <td>0.314138</td>\n",
       "      <td>0.576369</td>\n",
       "      <td>2.327406</td>\n",
       "      <td>2.166375</td>\n",
       "      <td>2.138596</td>\n",
       "      <td>2.201774</td>\n",
       "      <td>0.729090</td>\n",
       "      <td>0.769817</td>\n",
       "      <td>...</td>\n",
       "      <td>1.650093</td>\n",
       "      <td>1.855813</td>\n",
       "      <td>1.818817</td>\n",
       "      <td>0.014879</td>\n",
       "      <td>0.015805</td>\n",
       "      <td>0.016650</td>\n",
       "      <td>0.015313</td>\n",
       "      <td>0.016181</td>\n",
       "      <td>0.016441</td>\n",
       "      <td>W</td>\n",
       "    </tr>\n",
       "    <tr>\n",
       "      <th>...</th>\n",
       "      <td>...</td>\n",
       "      <td>...</td>\n",
       "      <td>...</td>\n",
       "      <td>...</td>\n",
       "      <td>...</td>\n",
       "      <td>...</td>\n",
       "      <td>...</td>\n",
       "      <td>...</td>\n",
       "      <td>...</td>\n",
       "      <td>...</td>\n",
       "      <td>...</td>\n",
       "      <td>...</td>\n",
       "      <td>...</td>\n",
       "      <td>...</td>\n",
       "      <td>...</td>\n",
       "      <td>...</td>\n",
       "      <td>...</td>\n",
       "      <td>...</td>\n",
       "      <td>...</td>\n",
       "      <td>...</td>\n",
       "      <td>...</td>\n",
       "    </tr>\n",
       "    <tr>\n",
       "      <th>4634</th>\n",
       "      <td>0.335857</td>\n",
       "      <td>0.410468</td>\n",
       "      <td>0.300228</td>\n",
       "      <td>0.276756</td>\n",
       "      <td>1.621920</td>\n",
       "      <td>1.630917</td>\n",
       "      <td>1.346387</td>\n",
       "      <td>1.586188</td>\n",
       "      <td>0.607810</td>\n",
       "      <td>0.624600</td>\n",
       "      <td>...</td>\n",
       "      <td>2.502717</td>\n",
       "      <td>2.692293</td>\n",
       "      <td>2.785978</td>\n",
       "      <td>0.023468</td>\n",
       "      <td>0.036627</td>\n",
       "      <td>0.033372</td>\n",
       "      <td>0.029100</td>\n",
       "      <td>0.035605</td>\n",
       "      <td>0.041736</td>\n",
       "      <td>N1</td>\n",
       "    </tr>\n",
       "    <tr>\n",
       "      <th>4635</th>\n",
       "      <td>0.479301</td>\n",
       "      <td>0.428890</td>\n",
       "      <td>0.385556</td>\n",
       "      <td>0.519703</td>\n",
       "      <td>1.635054</td>\n",
       "      <td>1.491134</td>\n",
       "      <td>1.454071</td>\n",
       "      <td>1.936643</td>\n",
       "      <td>0.423160</td>\n",
       "      <td>0.464464</td>\n",
       "      <td>...</td>\n",
       "      <td>2.843379</td>\n",
       "      <td>2.714932</td>\n",
       "      <td>2.614030</td>\n",
       "      <td>0.026940</td>\n",
       "      <td>0.032203</td>\n",
       "      <td>0.043528</td>\n",
       "      <td>0.020953</td>\n",
       "      <td>0.036683</td>\n",
       "      <td>0.036497</td>\n",
       "      <td>W</td>\n",
       "    </tr>\n",
       "    <tr>\n",
       "      <th>4636</th>\n",
       "      <td>0.525649</td>\n",
       "      <td>0.365365</td>\n",
       "      <td>0.360381</td>\n",
       "      <td>0.602243</td>\n",
       "      <td>2.027865</td>\n",
       "      <td>2.219524</td>\n",
       "      <td>2.104737</td>\n",
       "      <td>1.987850</td>\n",
       "      <td>0.712698</td>\n",
       "      <td>0.763721</td>\n",
       "      <td>...</td>\n",
       "      <td>1.776965</td>\n",
       "      <td>1.773306</td>\n",
       "      <td>1.872869</td>\n",
       "      <td>0.015143</td>\n",
       "      <td>0.016932</td>\n",
       "      <td>0.019595</td>\n",
       "      <td>0.015497</td>\n",
       "      <td>0.018505</td>\n",
       "      <td>0.018662</td>\n",
       "      <td>W</td>\n",
       "    </tr>\n",
       "    <tr>\n",
       "      <th>4637</th>\n",
       "      <td>0.520821</td>\n",
       "      <td>0.469302</td>\n",
       "      <td>0.700256</td>\n",
       "      <td>0.794421</td>\n",
       "      <td>2.043425</td>\n",
       "      <td>2.088381</td>\n",
       "      <td>2.223531</td>\n",
       "      <td>2.380100</td>\n",
       "      <td>0.712170</td>\n",
       "      <td>0.713556</td>\n",
       "      <td>...</td>\n",
       "      <td>2.028990</td>\n",
       "      <td>1.858679</td>\n",
       "      <td>2.353562</td>\n",
       "      <td>0.014681</td>\n",
       "      <td>0.017711</td>\n",
       "      <td>0.020997</td>\n",
       "      <td>0.017510</td>\n",
       "      <td>0.021004</td>\n",
       "      <td>0.021083</td>\n",
       "      <td>W</td>\n",
       "    </tr>\n",
       "    <tr>\n",
       "      <th>4638</th>\n",
       "      <td>0.748884</td>\n",
       "      <td>0.630614</td>\n",
       "      <td>0.896489</td>\n",
       "      <td>0.459087</td>\n",
       "      <td>1.663731</td>\n",
       "      <td>1.821587</td>\n",
       "      <td>1.483974</td>\n",
       "      <td>1.903021</td>\n",
       "      <td>0.439526</td>\n",
       "      <td>0.584592</td>\n",
       "      <td>...</td>\n",
       "      <td>2.772412</td>\n",
       "      <td>2.988410</td>\n",
       "      <td>2.725082</td>\n",
       "      <td>0.045241</td>\n",
       "      <td>0.040152</td>\n",
       "      <td>0.050200</td>\n",
       "      <td>0.037434</td>\n",
       "      <td>0.030186</td>\n",
       "      <td>0.042293</td>\n",
       "      <td>W</td>\n",
       "    </tr>\n",
       "  </tbody>\n",
       "</table>\n",
       "<p>4639 rows × 23 columns</p>\n",
       "</div>"
      ],
      "text/plain": [
       "       EEG1_HC   EEG2_HC   EEG3_HC   EEG4_HC   EEG1_SE   EEG2_SE   EEG3_SE  \\\n",
       "0     0.290820  0.267599  0.335005  0.340770  2.173185  2.291572  2.123666   \n",
       "1     0.546924  0.515472  0.467571  0.534379  2.255793  2.242239  2.268926   \n",
       "2     0.568201  0.396790  0.462065  0.335742  2.378528  2.149019  2.206753   \n",
       "3     0.727172  0.587920  0.556282  0.457914  2.196304  2.173284  2.374547   \n",
       "4     0.372004  0.489312  0.314138  0.576369  2.327406  2.166375  2.138596   \n",
       "...        ...       ...       ...       ...       ...       ...       ...   \n",
       "4634  0.335857  0.410468  0.300228  0.276756  1.621920  1.630917  1.346387   \n",
       "4635  0.479301  0.428890  0.385556  0.519703  1.635054  1.491134  1.454071   \n",
       "4636  0.525649  0.365365  0.360381  0.602243  2.027865  2.219524  2.104737   \n",
       "4637  0.520821  0.469302  0.700256  0.794421  2.043425  2.088381  2.223531   \n",
       "4638  0.748884  0.630614  0.896489  0.459087  1.663731  1.821587  1.483974   \n",
       "\n",
       "       EEG4_SE   EEG1_DE   EEG2_DE  ...   EEG2_AE   EEG3_AE   EEG4_AE  \\\n",
       "0     2.256856  0.712265  0.701614  ...  1.878138  2.118630  2.029427   \n",
       "1     2.172522  0.718175  0.720605  ...  1.818256  1.935162  1.769035   \n",
       "2     2.179514  0.749171  0.769257  ...  1.635736  1.875498  1.922582   \n",
       "3     2.103550  0.747833  0.760236  ...  1.709370  1.820107  1.793391   \n",
       "4     2.201774  0.729090  0.769817  ...  1.650093  1.855813  1.818817   \n",
       "...        ...       ...       ...  ...       ...       ...       ...   \n",
       "4634  1.586188  0.607810  0.624600  ...  2.502717  2.692293  2.785978   \n",
       "4635  1.936643  0.423160  0.464464  ...  2.843379  2.714932  2.614030   \n",
       "4636  1.987850  0.712698  0.763721  ...  1.776965  1.773306  1.872869   \n",
       "4637  2.380100  0.712170  0.713556  ...  2.028990  1.858679  2.353562   \n",
       "4638  1.903021  0.439526  0.584592  ...  2.772412  2.988410  2.725082   \n",
       "\n",
       "         DTW12     DTW13     DTW14     DTW23     DTW24     DTW34  Stage  \n",
       "0     0.016962  0.017800  0.018340  0.016169  0.016413  0.017353      W  \n",
       "1     0.016084  0.016265  0.017456  0.015162  0.016169  0.016867      W  \n",
       "2     0.014763  0.015663  0.016833  0.014854  0.016905  0.016456      W  \n",
       "3     0.015093  0.015383  0.016541  0.014723  0.016172  0.016346      W  \n",
       "4     0.014879  0.015805  0.016650  0.015313  0.016181  0.016441      W  \n",
       "...        ...       ...       ...       ...       ...       ...    ...  \n",
       "4634  0.023468  0.036627  0.033372  0.029100  0.035605  0.041736     N1  \n",
       "4635  0.026940  0.032203  0.043528  0.020953  0.036683  0.036497      W  \n",
       "4636  0.015143  0.016932  0.019595  0.015497  0.018505  0.018662      W  \n",
       "4637  0.014681  0.017711  0.020997  0.017510  0.021004  0.021083      W  \n",
       "4638  0.045241  0.040152  0.050200  0.037434  0.030186  0.042293      W  \n",
       "\n",
       "[4639 rows x 23 columns]"
      ]
     },
     "execution_count": 5,
     "metadata": {},
     "output_type": "execute_result"
    }
   ],
   "source": [
    "features"
   ]
  },
  {
   "cell_type": "code",
   "execution_count": null,
   "id": "aec47170",
   "metadata": {
    "id": "aec47170",
    "outputId": "8d5bbb95-ab6c-4121-93a5-8aa3d8184b6b"
   },
   "outputs": [
    {
     "data": {
      "text/html": [
       "<div>\n",
       "<style scoped>\n",
       "    .dataframe tbody tr th:only-of-type {\n",
       "        vertical-align: middle;\n",
       "    }\n",
       "\n",
       "    .dataframe tbody tr th {\n",
       "        vertical-align: top;\n",
       "    }\n",
       "\n",
       "    .dataframe thead th {\n",
       "        text-align: right;\n",
       "    }\n",
       "</style>\n",
       "<table border=\"1\" class=\"dataframe\">\n",
       "  <thead>\n",
       "    <tr style=\"text-align: right;\">\n",
       "      <th></th>\n",
       "      <th>EEG1_HC</th>\n",
       "      <th>EEG2_HC</th>\n",
       "      <th>EEG3_HC</th>\n",
       "      <th>EEG4_HC</th>\n",
       "      <th>EEG1_SE</th>\n",
       "      <th>EEG2_SE</th>\n",
       "      <th>EEG3_SE</th>\n",
       "      <th>EEG4_SE</th>\n",
       "      <th>EEG1_DE</th>\n",
       "      <th>EEG2_DE</th>\n",
       "      <th>...</th>\n",
       "      <th>EEG1_AE</th>\n",
       "      <th>EEG2_AE</th>\n",
       "      <th>EEG3_AE</th>\n",
       "      <th>EEG4_AE</th>\n",
       "      <th>DTW12</th>\n",
       "      <th>DTW13</th>\n",
       "      <th>DTW14</th>\n",
       "      <th>DTW23</th>\n",
       "      <th>DTW24</th>\n",
       "      <th>DTW34</th>\n",
       "    </tr>\n",
       "  </thead>\n",
       "  <tbody>\n",
       "    <tr>\n",
       "      <th>count</th>\n",
       "      <td>4639.000000</td>\n",
       "      <td>4639.000000</td>\n",
       "      <td>4639.000000</td>\n",
       "      <td>4639.000000</td>\n",
       "      <td>4639.000000</td>\n",
       "      <td>4639.000000</td>\n",
       "      <td>4639.000000</td>\n",
       "      <td>4639.000000</td>\n",
       "      <td>4639.000000</td>\n",
       "      <td>4639.000000</td>\n",
       "      <td>...</td>\n",
       "      <td>4639.000000</td>\n",
       "      <td>4639.000000</td>\n",
       "      <td>4639.000000</td>\n",
       "      <td>4639.000000</td>\n",
       "      <td>4639.000000</td>\n",
       "      <td>4639.000000</td>\n",
       "      <td>4639.000000</td>\n",
       "      <td>4639.000000</td>\n",
       "      <td>4639.000000</td>\n",
       "      <td>4639.000000</td>\n",
       "    </tr>\n",
       "    <tr>\n",
       "      <th>mean</th>\n",
       "      <td>0.407683</td>\n",
       "      <td>0.413968</td>\n",
       "      <td>0.419111</td>\n",
       "      <td>0.413276</td>\n",
       "      <td>1.985295</td>\n",
       "      <td>2.018478</td>\n",
       "      <td>2.073676</td>\n",
       "      <td>2.073096</td>\n",
       "      <td>0.601284</td>\n",
       "      <td>0.644286</td>\n",
       "      <td>...</td>\n",
       "      <td>2.277209</td>\n",
       "      <td>2.132298</td>\n",
       "      <td>1.940277</td>\n",
       "      <td>2.081432</td>\n",
       "      <td>0.019672</td>\n",
       "      <td>0.022493</td>\n",
       "      <td>0.023630</td>\n",
       "      <td>0.020397</td>\n",
       "      <td>0.020855</td>\n",
       "      <td>0.022720</td>\n",
       "    </tr>\n",
       "    <tr>\n",
       "      <th>std</th>\n",
       "      <td>0.122167</td>\n",
       "      <td>0.125034</td>\n",
       "      <td>0.123731</td>\n",
       "      <td>0.130616</td>\n",
       "      <td>0.283917</td>\n",
       "      <td>0.286705</td>\n",
       "      <td>0.318992</td>\n",
       "      <td>0.296705</td>\n",
       "      <td>0.090834</td>\n",
       "      <td>0.097493</td>\n",
       "      <td>...</td>\n",
       "      <td>0.484206</td>\n",
       "      <td>0.499555</td>\n",
       "      <td>0.527426</td>\n",
       "      <td>0.558435</td>\n",
       "      <td>0.007758</td>\n",
       "      <td>0.010171</td>\n",
       "      <td>0.011785</td>\n",
       "      <td>0.009782</td>\n",
       "      <td>0.011158</td>\n",
       "      <td>0.012586</td>\n",
       "    </tr>\n",
       "    <tr>\n",
       "      <th>min</th>\n",
       "      <td>-0.046208</td>\n",
       "      <td>-0.032702</td>\n",
       "      <td>-0.043791</td>\n",
       "      <td>-0.236217</td>\n",
       "      <td>0.493947</td>\n",
       "      <td>0.405193</td>\n",
       "      <td>0.263428</td>\n",
       "      <td>0.445624</td>\n",
       "      <td>0.209609</td>\n",
       "      <td>0.139415</td>\n",
       "      <td>...</td>\n",
       "      <td>1.340577</td>\n",
       "      <td>1.183759</td>\n",
       "      <td>1.145288</td>\n",
       "      <td>0.886140</td>\n",
       "      <td>0.010961</td>\n",
       "      <td>0.012546</td>\n",
       "      <td>0.012903</td>\n",
       "      <td>0.011688</td>\n",
       "      <td>0.011906</td>\n",
       "      <td>0.012012</td>\n",
       "    </tr>\n",
       "    <tr>\n",
       "      <th>25%</th>\n",
       "      <td>0.325367</td>\n",
       "      <td>0.330618</td>\n",
       "      <td>0.338923</td>\n",
       "      <td>0.324959</td>\n",
       "      <td>1.843212</td>\n",
       "      <td>1.929601</td>\n",
       "      <td>2.040035</td>\n",
       "      <td>1.997956</td>\n",
       "      <td>0.546697</td>\n",
       "      <td>0.592947</td>\n",
       "      <td>...</td>\n",
       "      <td>1.931048</td>\n",
       "      <td>1.777218</td>\n",
       "      <td>1.540280</td>\n",
       "      <td>1.649657</td>\n",
       "      <td>0.015584</td>\n",
       "      <td>0.016777</td>\n",
       "      <td>0.017426</td>\n",
       "      <td>0.015020</td>\n",
       "      <td>0.015296</td>\n",
       "      <td>0.015663</td>\n",
       "    </tr>\n",
       "    <tr>\n",
       "      <th>50%</th>\n",
       "      <td>0.403324</td>\n",
       "      <td>0.406642</td>\n",
       "      <td>0.412256</td>\n",
       "      <td>0.403072</td>\n",
       "      <td>2.055393</td>\n",
       "      <td>2.098275</td>\n",
       "      <td>2.171178</td>\n",
       "      <td>2.154363</td>\n",
       "      <td>0.602873</td>\n",
       "      <td>0.645335</td>\n",
       "      <td>...</td>\n",
       "      <td>2.232614</td>\n",
       "      <td>2.050095</td>\n",
       "      <td>1.842953</td>\n",
       "      <td>2.007599</td>\n",
       "      <td>0.018144</td>\n",
       "      <td>0.019953</td>\n",
       "      <td>0.020625</td>\n",
       "      <td>0.017532</td>\n",
       "      <td>0.017542</td>\n",
       "      <td>0.019110</td>\n",
       "    </tr>\n",
       "    <tr>\n",
       "      <th>75%</th>\n",
       "      <td>0.482221</td>\n",
       "      <td>0.486332</td>\n",
       "      <td>0.490318</td>\n",
       "      <td>0.488234</td>\n",
       "      <td>2.187180</td>\n",
       "      <td>2.200119</td>\n",
       "      <td>2.255841</td>\n",
       "      <td>2.255602</td>\n",
       "      <td>0.658329</td>\n",
       "      <td>0.710503</td>\n",
       "      <td>...</td>\n",
       "      <td>2.534680</td>\n",
       "      <td>2.418812</td>\n",
       "      <td>2.199211</td>\n",
       "      <td>2.422515</td>\n",
       "      <td>0.021329</td>\n",
       "      <td>0.024420</td>\n",
       "      <td>0.024284</td>\n",
       "      <td>0.022196</td>\n",
       "      <td>0.021389</td>\n",
       "      <td>0.024425</td>\n",
       "    </tr>\n",
       "    <tr>\n",
       "      <th>max</th>\n",
       "      <td>1.109098</td>\n",
       "      <td>1.013416</td>\n",
       "      <td>1.009143</td>\n",
       "      <td>1.147752</td>\n",
       "      <td>2.604604</td>\n",
       "      <td>2.544127</td>\n",
       "      <td>2.539600</td>\n",
       "      <td>2.590524</td>\n",
       "      <td>0.939291</td>\n",
       "      <td>0.936564</td>\n",
       "      <td>...</td>\n",
       "      <td>4.834045</td>\n",
       "      <td>4.841244</td>\n",
       "      <td>5.075288</td>\n",
       "      <td>4.915422</td>\n",
       "      <td>0.095331</td>\n",
       "      <td>0.093259</td>\n",
       "      <td>0.107706</td>\n",
       "      <td>0.096011</td>\n",
       "      <td>0.102863</td>\n",
       "      <td>0.118318</td>\n",
       "    </tr>\n",
       "  </tbody>\n",
       "</table>\n",
       "<p>8 rows × 22 columns</p>\n",
       "</div>"
      ],
      "text/plain": [
       "           EEG1_HC      EEG2_HC      EEG3_HC      EEG4_HC      EEG1_SE  \\\n",
       "count  4639.000000  4639.000000  4639.000000  4639.000000  4639.000000   \n",
       "mean      0.407683     0.413968     0.419111     0.413276     1.985295   \n",
       "std       0.122167     0.125034     0.123731     0.130616     0.283917   \n",
       "min      -0.046208    -0.032702    -0.043791    -0.236217     0.493947   \n",
       "25%       0.325367     0.330618     0.338923     0.324959     1.843212   \n",
       "50%       0.403324     0.406642     0.412256     0.403072     2.055393   \n",
       "75%       0.482221     0.486332     0.490318     0.488234     2.187180   \n",
       "max       1.109098     1.013416     1.009143     1.147752     2.604604   \n",
       "\n",
       "           EEG2_SE      EEG3_SE      EEG4_SE      EEG1_DE      EEG2_DE  ...  \\\n",
       "count  4639.000000  4639.000000  4639.000000  4639.000000  4639.000000  ...   \n",
       "mean      2.018478     2.073676     2.073096     0.601284     0.644286  ...   \n",
       "std       0.286705     0.318992     0.296705     0.090834     0.097493  ...   \n",
       "min       0.405193     0.263428     0.445624     0.209609     0.139415  ...   \n",
       "25%       1.929601     2.040035     1.997956     0.546697     0.592947  ...   \n",
       "50%       2.098275     2.171178     2.154363     0.602873     0.645335  ...   \n",
       "75%       2.200119     2.255841     2.255602     0.658329     0.710503  ...   \n",
       "max       2.544127     2.539600     2.590524     0.939291     0.936564  ...   \n",
       "\n",
       "           EEG1_AE      EEG2_AE      EEG3_AE      EEG4_AE        DTW12  \\\n",
       "count  4639.000000  4639.000000  4639.000000  4639.000000  4639.000000   \n",
       "mean      2.277209     2.132298     1.940277     2.081432     0.019672   \n",
       "std       0.484206     0.499555     0.527426     0.558435     0.007758   \n",
       "min       1.340577     1.183759     1.145288     0.886140     0.010961   \n",
       "25%       1.931048     1.777218     1.540280     1.649657     0.015584   \n",
       "50%       2.232614     2.050095     1.842953     2.007599     0.018144   \n",
       "75%       2.534680     2.418812     2.199211     2.422515     0.021329   \n",
       "max       4.834045     4.841244     5.075288     4.915422     0.095331   \n",
       "\n",
       "             DTW13        DTW14        DTW23        DTW24        DTW34  \n",
       "count  4639.000000  4639.000000  4639.000000  4639.000000  4639.000000  \n",
       "mean      0.022493     0.023630     0.020397     0.020855     0.022720  \n",
       "std       0.010171     0.011785     0.009782     0.011158     0.012586  \n",
       "min       0.012546     0.012903     0.011688     0.011906     0.012012  \n",
       "25%       0.016777     0.017426     0.015020     0.015296     0.015663  \n",
       "50%       0.019953     0.020625     0.017532     0.017542     0.019110  \n",
       "75%       0.024420     0.024284     0.022196     0.021389     0.024425  \n",
       "max       0.093259     0.107706     0.096011     0.102863     0.118318  \n",
       "\n",
       "[8 rows x 22 columns]"
      ]
     },
     "execution_count": 5,
     "metadata": {},
     "output_type": "execute_result"
    }
   ],
   "source": [
    "features.describe()"
   ]
  },
  {
   "cell_type": "code",
   "execution_count": 6,
   "id": "70dc6234",
   "metadata": {
    "colab": {
     "base_uri": "https://localhost:8080/"
    },
    "executionInfo": {
     "elapsed": 219,
     "status": "ok",
     "timestamp": 1700087251048,
     "user": {
      "displayName": "Qizheng Xia",
      "userId": "07735350061252297066"
     },
     "user_tz": 360
    },
    "id": "70dc6234",
    "outputId": "19e6525d-56aa-4f0a-db8d-3b2e3d7df357"
   },
   "outputs": [
    {
     "name": "stdout",
     "output_type": "stream",
     "text": [
      "Stage\n",
      "N2    1782\n",
      "W      917\n",
      "R      841\n",
      "N3     610\n",
      "N1     489\n",
      "Name: count, dtype: int64\n"
     ]
    }
   ],
   "source": [
    "# Calculate the quantity of each category\n",
    "class_counts = features['Stage'].value_counts()\n",
    "print(class_counts)"
   ]
  },
  {
   "cell_type": "code",
   "execution_count": 11,
   "id": "30b9b3c0",
   "metadata": {},
   "outputs": [
    {
     "data": {
      "text/plain": [
       "Stage\n",
       "N2    38.413451\n",
       "W     19.767191\n",
       "R     18.128907\n",
       "N3    13.149386\n",
       "N1    10.541065\n",
       "Name: count, dtype: float64"
      ]
     },
     "execution_count": 11,
     "metadata": {},
     "output_type": "execute_result"
    }
   ],
   "source": [
    "class_counts/len(features.Stage)*100"
   ]
  },
  {
   "cell_type": "code",
   "execution_count": null,
   "id": "c01f60c1",
   "metadata": {
    "id": "c01f60c1",
    "outputId": "6701467d-640d-4173-b4e8-940b4b60c374"
   },
   "outputs": [
    {
     "data": {
      "text/plain": [
       "0"
      ]
     },
     "execution_count": 5,
     "metadata": {},
     "output_type": "execute_result"
    }
   ],
   "source": [
    "features.isna().sum().sum()"
   ]
  },
  {
   "cell_type": "code",
   "execution_count": null,
   "id": "0e80d932",
   "metadata": {
    "id": "0e80d932"
   },
   "outputs": [],
   "source": [
    "result = {'Accuracy':[], 'Stage':[] , 'Method':[]}"
   ]
  },
  {
   "cell_type": "code",
   "execution_count": 4,
   "id": "c90a405c",
   "metadata": {
    "executionInfo": {
     "elapsed": 162,
     "status": "ok",
     "timestamp": 1700087252744,
     "user": {
      "displayName": "Qizheng Xia",
      "userId": "07735350061252297066"
     },
     "user_tz": 360
    },
    "id": "c90a405c"
   },
   "outputs": [],
   "source": [
    "x = features.iloc[:, :-1]\n",
    "y = features['Stage']\n",
    "labels = ['N1', 'N2', 'N3', 'R', 'W']"
   ]
  },
  {
   "cell_type": "code",
   "execution_count": 5,
   "id": "8ed14ebe",
   "metadata": {
    "executionInfo": {
     "elapsed": 2,
     "status": "ok",
     "timestamp": 1700087253947,
     "user": {
      "displayName": "Qizheng Xia",
      "userId": "07735350061252297066"
     },
     "user_tz": 360
    },
    "id": "8ed14ebe"
   },
   "outputs": [],
   "source": [
    "# print accuracy for each class\n",
    "def print_class_accuracy(y_true, y_pred, dataset_name):\n",
    "    conf_matrix = confusion_matrix(y_true, y_pred)\n",
    "    class_accuracy = 100 * conf_matrix.diagonal() / np.maximum(conf_matrix.sum(axis=1), 1)\n",
    "    labels = np.unique(np.concatenate((y_true, y_pred)))\n",
    "\n",
    "    print(f\"{dataset_name} Dataset:\")\n",
    "    for label, accuracy in zip(labels, class_accuracy):\n",
    "        print(f\"Accuracy for class {label}: {accuracy:.2f}%\")"
   ]
  },
  {
   "cell_type": "code",
   "execution_count": 6,
   "id": "3f7ea671",
   "metadata": {
    "executionInfo": {
     "elapsed": 202,
     "status": "ok",
     "timestamp": 1700087255426,
     "user": {
      "displayName": "Qizheng Xia",
      "userId": "07735350061252297066"
     },
     "user_tz": 360
    },
    "id": "3f7ea671"
   },
   "outputs": [],
   "source": [
    "# Split the dataset into training and testing sets\n",
    "X_train, X_test, y_train, y_test = train_test_split(x, y, test_size=0.2, random_state=24)"
   ]
  },
  {
   "cell_type": "code",
   "execution_count": 7,
   "id": "8113a15c",
   "metadata": {
    "colab": {
     "base_uri": "https://localhost:8080/"
    },
    "executionInfo": {
     "elapsed": 155,
     "status": "ok",
     "timestamp": 1700087258806,
     "user": {
      "displayName": "Qizheng Xia",
      "userId": "07735350061252297066"
     },
     "user_tz": 360
    },
    "id": "8113a15c",
    "outputId": "69865d41-3d21-4323-9e80-ddcc164ca353"
   },
   "outputs": [
    {
     "name": "stdout",
     "output_type": "stream",
     "text": [
      "Stage\n",
      "N2    1407\n",
      "W      753\n",
      "R      682\n",
      "N3     478\n",
      "N1     391\n",
      "Name: count, dtype: int64\n"
     ]
    }
   ],
   "source": [
    "# Calculate the quantity of each category in training set\n",
    "class_counts_train = y_train.value_counts()\n",
    "\n",
    "print(class_counts_train)"
   ]
  },
  {
   "cell_type": "code",
   "execution_count": 8,
   "id": "ffe6723c",
   "metadata": {
    "executionInfo": {
     "elapsed": 130,
     "status": "ok",
     "timestamp": 1700087260181,
     "user": {
      "displayName": "Qizheng Xia",
      "userId": "07735350061252297066"
     },
     "user_tz": 360
    },
    "id": "ffe6723c",
    "scrolled": true
   },
   "outputs": [],
   "source": [
    "over_strategy = {'N1': 700, 'N3': 700}\n",
    "under_strategy = {'N2': 1000}\n",
    "over = SMOTE(sampling_strategy=over_strategy)\n",
    "under = RandomUnderSampler(sampling_strategy=under_strategy)\n",
    "\n",
    "# Define Pipeline, first oversampling and then undersampling\n",
    "pipeline_resample = Pipeline(steps=[('o', over) , ('u' , under)])\n",
    "\n",
    "# Sampling a dataset\n",
    "X_resampled, y_resampled = pipeline_resample.fit_resample(X_train, y_train)\n",
    "y_train = y_resampled\n",
    "X_train = X_resampled"
   ]
  },
  {
   "cell_type": "code",
   "execution_count": 9,
   "id": "e7b7f153",
   "metadata": {
    "colab": {
     "base_uri": "https://localhost:8080/"
    },
    "executionInfo": {
     "elapsed": 315,
     "status": "ok",
     "timestamp": 1700087262281,
     "user": {
      "displayName": "Qizheng Xia",
      "userId": "07735350061252297066"
     },
     "user_tz": 360
    },
    "id": "e7b7f153",
    "outputId": "a0f8e8b0-a7bd-49a2-8696-aa935776ee17"
   },
   "outputs": [
    {
     "name": "stdout",
     "output_type": "stream",
     "text": [
      "Stage\n",
      "N2    1000\n",
      "W      753\n",
      "N1     700\n",
      "N3     700\n",
      "R      682\n",
      "Name: count, dtype: int64\n"
     ]
    }
   ],
   "source": [
    "class_counts_resampled = y_resampled.value_counts()\n",
    "\n",
    "print(class_counts_resampled)"
   ]
  },
  {
   "cell_type": "code",
   "execution_count": 10,
   "id": "633172b4",
   "metadata": {
    "executionInfo": {
     "elapsed": 6,
     "status": "ok",
     "timestamp": 1700087263743,
     "user": {
      "displayName": "Qizheng Xia",
      "userId": "07735350061252297066"
     },
     "user_tz": 360
    },
    "id": "633172b4"
   },
   "outputs": [],
   "source": [
    "# Use Min Max Standardization\n",
    "min_max_scaler = MinMaxScaler()\n",
    "X_train_scaled = min_max_scaler.fit_transform(X_train)\n",
    "X_test_scaled = min_max_scaler.transform(X_test)"
   ]
  },
  {
   "cell_type": "markdown",
   "id": "07b6e40b",
   "metadata": {
    "id": "07b6e40b"
   },
   "source": [
    "# Random Forest"
   ]
  },
  {
   "cell_type": "code",
   "execution_count": null,
   "id": "6663de03",
   "metadata": {
    "id": "6663de03",
    "outputId": "844890cf-9f05-4093-c7ab-59a4b0d360b9"
   },
   "outputs": [
    {
     "name": "stdout",
     "output_type": "stream",
     "text": [
      "{'max_depth': 15, 'n_estimators': 200}\n"
     ]
    },
    {
     "data": {
      "text/html": [
       "<style>#sk-container-id-1 {color: black;}#sk-container-id-1 pre{padding: 0;}#sk-container-id-1 div.sk-toggleable {background-color: white;}#sk-container-id-1 label.sk-toggleable__label {cursor: pointer;display: block;width: 100%;margin-bottom: 0;padding: 0.3em;box-sizing: border-box;text-align: center;}#sk-container-id-1 label.sk-toggleable__label-arrow:before {content: \"▸\";float: left;margin-right: 0.25em;color: #696969;}#sk-container-id-1 label.sk-toggleable__label-arrow:hover:before {color: black;}#sk-container-id-1 div.sk-estimator:hover label.sk-toggleable__label-arrow:before {color: black;}#sk-container-id-1 div.sk-toggleable__content {max-height: 0;max-width: 0;overflow: hidden;text-align: left;background-color: #f0f8ff;}#sk-container-id-1 div.sk-toggleable__content pre {margin: 0.2em;color: black;border-radius: 0.25em;background-color: #f0f8ff;}#sk-container-id-1 input.sk-toggleable__control:checked~div.sk-toggleable__content {max-height: 200px;max-width: 100%;overflow: auto;}#sk-container-id-1 input.sk-toggleable__control:checked~label.sk-toggleable__label-arrow:before {content: \"▾\";}#sk-container-id-1 div.sk-estimator input.sk-toggleable__control:checked~label.sk-toggleable__label {background-color: #d4ebff;}#sk-container-id-1 div.sk-label input.sk-toggleable__control:checked~label.sk-toggleable__label {background-color: #d4ebff;}#sk-container-id-1 input.sk-hidden--visually {border: 0;clip: rect(1px 1px 1px 1px);clip: rect(1px, 1px, 1px, 1px);height: 1px;margin: -1px;overflow: hidden;padding: 0;position: absolute;width: 1px;}#sk-container-id-1 div.sk-estimator {font-family: monospace;background-color: #f0f8ff;border: 1px dotted black;border-radius: 0.25em;box-sizing: border-box;margin-bottom: 0.5em;}#sk-container-id-1 div.sk-estimator:hover {background-color: #d4ebff;}#sk-container-id-1 div.sk-parallel-item::after {content: \"\";width: 100%;border-bottom: 1px solid gray;flex-grow: 1;}#sk-container-id-1 div.sk-label:hover label.sk-toggleable__label {background-color: #d4ebff;}#sk-container-id-1 div.sk-serial::before {content: \"\";position: absolute;border-left: 1px solid gray;box-sizing: border-box;top: 0;bottom: 0;left: 50%;z-index: 0;}#sk-container-id-1 div.sk-serial {display: flex;flex-direction: column;align-items: center;background-color: white;padding-right: 0.2em;padding-left: 0.2em;position: relative;}#sk-container-id-1 div.sk-item {position: relative;z-index: 1;}#sk-container-id-1 div.sk-parallel {display: flex;align-items: stretch;justify-content: center;background-color: white;position: relative;}#sk-container-id-1 div.sk-item::before, #sk-container-id-1 div.sk-parallel-item::before {content: \"\";position: absolute;border-left: 1px solid gray;box-sizing: border-box;top: 0;bottom: 0;left: 50%;z-index: -1;}#sk-container-id-1 div.sk-parallel-item {display: flex;flex-direction: column;z-index: 1;position: relative;background-color: white;}#sk-container-id-1 div.sk-parallel-item:first-child::after {align-self: flex-end;width: 50%;}#sk-container-id-1 div.sk-parallel-item:last-child::after {align-self: flex-start;width: 50%;}#sk-container-id-1 div.sk-parallel-item:only-child::after {width: 0;}#sk-container-id-1 div.sk-dashed-wrapped {border: 1px dashed gray;margin: 0 0.4em 0.5em 0.4em;box-sizing: border-box;padding-bottom: 0.4em;background-color: white;}#sk-container-id-1 div.sk-label label {font-family: monospace;font-weight: bold;display: inline-block;line-height: 1.2em;}#sk-container-id-1 div.sk-label-container {text-align: center;}#sk-container-id-1 div.sk-container {/* jupyter's `normalize.less` sets `[hidden] { display: none; }` but bootstrap.min.css set `[hidden] { display: none !important; }` so we also need the `!important` here to be able to override the default hidden behavior on the sphinx rendered scikit-learn.org. See: https://github.com/scikit-learn/scikit-learn/issues/21755 */display: inline-block !important;position: relative;}#sk-container-id-1 div.sk-text-repr-fallback {display: none;}</style><div id=\"sk-container-id-1\" class=\"sk-top-container\"><div class=\"sk-text-repr-fallback\"><pre>RandomForestClassifier(max_depth=15, n_estimators=200, random_state=42)</pre><b>In a Jupyter environment, please rerun this cell to show the HTML representation or trust the notebook. <br />On GitHub, the HTML representation is unable to render, please try loading this page with nbviewer.org.</b></div><div class=\"sk-container\" hidden><div class=\"sk-item\"><div class=\"sk-estimator sk-toggleable\"><input class=\"sk-toggleable__control sk-hidden--visually\" id=\"sk-estimator-id-1\" type=\"checkbox\" checked><label for=\"sk-estimator-id-1\" class=\"sk-toggleable__label sk-toggleable__label-arrow\">RandomForestClassifier</label><div class=\"sk-toggleable__content\"><pre>RandomForestClassifier(max_depth=15, n_estimators=200, random_state=42)</pre></div></div></div></div></div>"
      ],
      "text/plain": [
       "RandomForestClassifier(max_depth=15, n_estimators=200, random_state=42)"
      ]
     },
     "execution_count": 16,
     "metadata": {},
     "output_type": "execute_result"
    }
   ],
   "source": [
    "# random forest classifier\n",
    "rf = RandomForestClassifier(random_state=42)\n",
    "\n",
    "# Parameter Grid\n",
    "param_grid = {\n",
    "    'n_estimators': [50, 100, 200],\n",
    "    'max_depth': [5, 10, 15]\n",
    "}\n",
    "\n",
    "# Using grid search for parameter selection\n",
    "CV_rfc = GridSearchCV(estimator=rf, param_grid=param_grid, cv=5)\n",
    "CV_rfc.fit(X_train_scaled, y_train)\n",
    "\n",
    "# optimum parameter\n",
    "best_params = CV_rfc.best_params_ \n",
    "print(best_params)\n",
    "\n",
    "rf_best = RandomForestClassifier(**best_params, random_state=42)\n",
    "rf_best.fit(X_train_scaled, y_train)"
   ]
  },
  {
   "cell_type": "code",
   "execution_count": 18,
   "id": "f8490913",
   "metadata": {},
   "outputs": [
    {
     "name": "stdout",
     "output_type": "stream",
     "text": [
      "0.9989569752281616\n"
     ]
    }
   ],
   "source": [
    "y_train_pred = rf_best.predict(X_train_scaled)\n",
    "accuracy_train = accuracy_score(y_train, y_train_pred)\n",
    "print(accuracy_train)"
   ]
  },
  {
   "cell_type": "code",
   "execution_count": 19,
   "id": "e274d1a4",
   "metadata": {
    "id": "e274d1a4",
    "outputId": "9311f251-490a-4d55-aaa3-72e4e85641de"
   },
   "outputs": [
    {
     "name": "stdout",
     "output_type": "stream",
     "text": [
      "0.7306034482758621\n",
      "Testing Dataset:\n",
      "Accuracy for class N1: 35.71%\n",
      "Accuracy for class N2: 73.60%\n",
      "Accuracy for class N3: 82.58%\n",
      "Accuracy for class R: 75.47%\n",
      "Accuracy for class W: 84.15%\n"
     ]
    }
   ],
   "source": [
    "y_pred = rf_best.predict(X_test_scaled)\n",
    "\n",
    "accuracy_test = accuracy_score(y_test, y_pred)\n",
    "print(accuracy_test)\n",
    "print_class_accuracy(y_test, y_pred, \"Testing\")"
   ]
  },
  {
   "cell_type": "code",
   "execution_count": 20,
   "id": "f9142964",
   "metadata": {
    "id": "f9142964",
    "outputId": "c451c7b0-9b0d-4da1-d585-5573779d6a35"
   },
   "outputs": [
    {
     "data": {
      "image/png": "[encoded data removed]",
      "text/plain": [
       "<Figure size 640x480 with 2 Axes>"
      ]
     },
     "metadata": {},
     "output_type": "display_data"
    }
   ],
   "source": [
    "confusion_matrix_test = confusion_matrix(y_test, y_pred)\n",
    "confusion_matrix_test = pd.DataFrame(confusion_matrix_test, index=labels, columns=labels)\n",
    "\n",
    "#Plot the confusion matrix.\n",
    "sns.heatmap(confusion_matrix_test,\n",
    "            annot=True,\n",
    "            fmt='g')\n",
    "plt.ylabel('Prediction',fontsize=13)\n",
    "plt.xlabel('Actual',fontsize=13)\n",
    "plt.title('Confusion Matrix',fontsize=17)\n",
    "plt.show()"
   ]
  },
  {
   "cell_type": "markdown",
   "id": "3c8cbcba",
   "metadata": {
    "id": "3c8cbcba"
   },
   "source": [
    "# Logistic"
   ]
  },
  {
   "cell_type": "code",
   "execution_count": null,
   "id": "1fb219b2",
   "metadata": {
    "id": "1fb219b2",
    "outputId": "abb0d538-a336-4933-9b89-62c4895d0363"
   },
   "outputs": [
    {
     "data": {
      "text/html": [
       "<style>#sk-container-id-1 {color: black;}#sk-container-id-1 pre{padding: 0;}#sk-container-id-1 div.sk-toggleable {background-color: white;}#sk-container-id-1 label.sk-toggleable__label {cursor: pointer;display: block;width: 100%;margin-bottom: 0;padding: 0.3em;box-sizing: border-box;text-align: center;}#sk-container-id-1 label.sk-toggleable__label-arrow:before {content: \"▸\";float: left;margin-right: 0.25em;color: #696969;}#sk-container-id-1 label.sk-toggleable__label-arrow:hover:before {color: black;}#sk-container-id-1 div.sk-estimator:hover label.sk-toggleable__label-arrow:before {color: black;}#sk-container-id-1 div.sk-toggleable__content {max-height: 0;max-width: 0;overflow: hidden;text-align: left;background-color: #f0f8ff;}#sk-container-id-1 div.sk-toggleable__content pre {margin: 0.2em;color: black;border-radius: 0.25em;background-color: #f0f8ff;}#sk-container-id-1 input.sk-toggleable__control:checked~div.sk-toggleable__content {max-height: 200px;max-width: 100%;overflow: auto;}#sk-container-id-1 input.sk-toggleable__control:checked~label.sk-toggleable__label-arrow:before {content: \"▾\";}#sk-container-id-1 div.sk-estimator input.sk-toggleable__control:checked~label.sk-toggleable__label {background-color: #d4ebff;}#sk-container-id-1 div.sk-label input.sk-toggleable__control:checked~label.sk-toggleable__label {background-color: #d4ebff;}#sk-container-id-1 input.sk-hidden--visually {border: 0;clip: rect(1px 1px 1px 1px);clip: rect(1px, 1px, 1px, 1px);height: 1px;margin: -1px;overflow: hidden;padding: 0;position: absolute;width: 1px;}#sk-container-id-1 div.sk-estimator {font-family: monospace;background-color: #f0f8ff;border: 1px dotted black;border-radius: 0.25em;box-sizing: border-box;margin-bottom: 0.5em;}#sk-container-id-1 div.sk-estimator:hover {background-color: #d4ebff;}#sk-container-id-1 div.sk-parallel-item::after {content: \"\";width: 100%;border-bottom: 1px solid gray;flex-grow: 1;}#sk-container-id-1 div.sk-label:hover label.sk-toggleable__label {background-color: #d4ebff;}#sk-container-id-1 div.sk-serial::before {content: \"\";position: absolute;border-left: 1px solid gray;box-sizing: border-box;top: 0;bottom: 0;left: 50%;z-index: 0;}#sk-container-id-1 div.sk-serial {display: flex;flex-direction: column;align-items: center;background-color: white;padding-right: 0.2em;padding-left: 0.2em;position: relative;}#sk-container-id-1 div.sk-item {position: relative;z-index: 1;}#sk-container-id-1 div.sk-parallel {display: flex;align-items: stretch;justify-content: center;background-color: white;position: relative;}#sk-container-id-1 div.sk-item::before, #sk-container-id-1 div.sk-parallel-item::before {content: \"\";position: absolute;border-left: 1px solid gray;box-sizing: border-box;top: 0;bottom: 0;left: 50%;z-index: -1;}#sk-container-id-1 div.sk-parallel-item {display: flex;flex-direction: column;z-index: 1;position: relative;background-color: white;}#sk-container-id-1 div.sk-parallel-item:first-child::after {align-self: flex-end;width: 50%;}#sk-container-id-1 div.sk-parallel-item:last-child::after {align-self: flex-start;width: 50%;}#sk-container-id-1 div.sk-parallel-item:only-child::after {width: 0;}#sk-container-id-1 div.sk-dashed-wrapped {border: 1px dashed gray;margin: 0 0.4em 0.5em 0.4em;box-sizing: border-box;padding-bottom: 0.4em;background-color: white;}#sk-container-id-1 div.sk-label label {font-family: monospace;font-weight: bold;display: inline-block;line-height: 1.2em;}#sk-container-id-1 div.sk-label-container {text-align: center;}#sk-container-id-1 div.sk-container {/* jupyter's `normalize.less` sets `[hidden] { display: none; }` but bootstrap.min.css set `[hidden] { display: none !important; }` so we also need the `!important` here to be able to override the default hidden behavior on the sphinx rendered scikit-learn.org. See: https://github.com/scikit-learn/scikit-learn/issues/21755 */display: inline-block !important;position: relative;}#sk-container-id-1 div.sk-text-repr-fallback {display: none;}</style><div id=\"sk-container-id-1\" class=\"sk-top-container\"><div class=\"sk-text-repr-fallback\"><pre>LogisticRegression(max_iter=1000, multi_class=&#x27;multinomial&#x27;, solver=&#x27;saga&#x27;)</pre><b>In a Jupyter environment, please rerun this cell to show the HTML representation or trust the notebook. <br />On GitHub, the HTML representation is unable to render, please try loading this page with nbviewer.org.</b></div><div class=\"sk-container\" hidden><div class=\"sk-item\"><div class=\"sk-estimator sk-toggleable\"><input class=\"sk-toggleable__control sk-hidden--visually\" id=\"sk-estimator-id-1\" type=\"checkbox\" checked><label for=\"sk-estimator-id-1\" class=\"sk-toggleable__label sk-toggleable__label-arrow\">LogisticRegression</label><div class=\"sk-toggleable__content\"><pre>LogisticRegression(max_iter=1000, multi_class=&#x27;multinomial&#x27;, solver=&#x27;saga&#x27;)</pre></div></div></div></div></div>"
      ],
      "text/plain": [
       "LogisticRegression(max_iter=1000, multi_class='multinomial', solver='saga')"
      ]
     },
     "execution_count": 12,
     "metadata": {},
     "output_type": "execute_result"
    }
   ],
   "source": [
    "# train a multi classification logistic regression model\n",
    "model = LogisticRegression(multi_class='multinomial', solver='saga', max_iter=1000)\n",
    "model.fit(X_train_scaled, y_train)"
   ]
  },
  {
   "cell_type": "code",
   "execution_count": null,
   "id": "3dd62da7",
   "metadata": {
    "id": "3dd62da7"
   },
   "outputs": [],
   "source": [
    "# Predicting training and testing sets\n",
    "y_train_pred = model.predict(X_train_scaled)\n",
    "y_test_pred = model.predict(X_test_scaled)\n",
    "\n",
    "# Calculate the accuracy of training and testing sets\n",
    "accuracy_train = accuracy_score(y_train, y_train_pred)\n",
    "accuracy_test = accuracy_score(y_test, y_test_pred)\n",
    "\n",
    "# Calculate Kappa coefficient\n",
    "kappa_train = cohen_kappa_score(y_train, y_train_pred)\n",
    "kappa_test = cohen_kappa_score(y_test, y_test_pred)\n",
    "\n",
    "# Calculate confusion matrix\n",
    "confusion_matrix_train = confusion_matrix(y_train, y_train_pred)\n",
    "confusion_matrix_train = pd.DataFrame(confusion_matrix_train, index=labels, columns=labels)\n",
    "confusion_matrix_test = confusion_matrix(y_test, y_test_pred)\n",
    "confusion_matrix_test = pd.DataFrame(confusion_matrix_test, index=labels, columns=labels)"
   ]
  },
  {
   "cell_type": "code",
   "execution_count": null,
   "id": "6f2370c1",
   "metadata": {
    "id": "6f2370c1",
    "outputId": "d46fc0c7-49e8-4e7c-d5d1-a42dd25b94e4"
   },
   "outputs": [
    {
     "name": "stdout",
     "output_type": "stream",
     "text": [
      "Train Accuracy: 0.59\n",
      "Train Kappa: 0.48\n",
      "Train Confusion Matrix:\n",
      "     N1   N2   N3    R    W\n",
      "N1  234  206   11   84  165\n",
      "N2   94  597   99  154   56\n",
      "N3    1   97  565   31    6\n",
      "R    66  216   28  347   25\n",
      "W    95   77   15   51  515\n",
      "Training Dataset:\n",
      "Accuracy for class N1: 33.43%\n",
      "Accuracy for class N2: 59.70%\n",
      "Accuracy for class N3: 80.71%\n",
      "Accuracy for class R: 50.88%\n",
      "Accuracy for class W: 68.39%\n"
     ]
    }
   ],
   "source": [
    "# print train result\n",
    "print(f'Train Accuracy: {accuracy_train:.2f}')\n",
    "\n",
    "print(f'Train Kappa: {kappa_train:.2f}')\n",
    "\n",
    "print('Train Confusion Matrix:')\n",
    "print(confusion_matrix_train)\n",
    "\n",
    "print_class_accuracy(y_train, y_train_pred, \"Training\")"
   ]
  },
  {
   "cell_type": "code",
   "execution_count": null,
   "id": "ca96cfd0",
   "metadata": {
    "id": "ca96cfd0",
    "outputId": "1483f030-e2c8-4c3c-d013-870925bda01f"
   },
   "outputs": [
    {
     "name": "stdout",
     "output_type": "stream",
     "text": [
      "Test Accuracy: 0.59\n",
      "Test Kappa: 0.45\n",
      "Test Confusion Matrix:\n",
      "    N1   N2   N3   R    W\n",
      "N1  30   23    5  17   23\n",
      "N2  31  227   33  57   27\n",
      "N3   2   16  106   6    2\n",
      "R   16   57    5  76    5\n",
      "W   21   13    5  19  106\n",
      "Testing Dataset:\n",
      "Accuracy for class N1: 30.61%\n",
      "Accuracy for class N2: 60.53%\n",
      "Accuracy for class N3: 80.30%\n",
      "Accuracy for class R: 47.80%\n",
      "Accuracy for class W: 64.63%\n"
     ]
    }
   ],
   "source": [
    "# print test result\n",
    "print(f'Test Accuracy: {accuracy_test:.2f}')\n",
    "\n",
    "print(f'Test Kappa: {kappa_test:.2f}')\n",
    "\n",
    "print('Test Confusion Matrix:')\n",
    "print(confusion_matrix_test)\n",
    "\n",
    "print_class_accuracy(y_test, y_test_pred, \"Testing\")"
   ]
  },
  {
   "cell_type": "code",
   "execution_count": null,
   "id": "b3940097",
   "metadata": {
    "id": "b3940097",
    "outputId": "e5219759-0b7e-4ea0-ce13-3568510eff05"
   },
   "outputs": [
    {
     "data": {
      "image/png": "[encoded data removed]",
      "text/plain": [
       "<Figure size 640x480 with 2 Axes>"
      ]
     },
     "metadata": {},
     "output_type": "display_data"
    }
   ],
   "source": [
    "#Plot the confusion matrix.\n",
    "sns.heatmap(confusion_matrix_test,\n",
    "            annot=True,\n",
    "            fmt='g')\n",
    "plt.ylabel('Prediction',fontsize=13)\n",
    "plt.xlabel('Actual',fontsize=13)\n",
    "plt.title('Confusion Matrix',fontsize=17)\n",
    "plt.show()"
   ]
  },
  {
   "cell_type": "code",
   "execution_count": null,
   "id": "80962a74",
   "metadata": {
    "id": "80962a74"
   },
   "outputs": [],
   "source": [
    "result['Accuracy'].append(accuracy_test*100)\n",
    "result['Stage'].append('Total')\n",
    "\n",
    "conf_matrix = confusion_matrix(y_test, y_test_pred)\n",
    "class_accuracy = 100 * conf_matrix.diagonal() / np.maximum(conf_matrix.sum(axis=1), 1)\n",
    "labels = np.unique(np.concatenate((y_test, y_test_pred)))\n",
    "\n",
    "for label, accuracy in zip(labels, class_accuracy):\n",
    "    result['Accuracy'].append(accuracy)\n",
    "    result['Stage'].append(label)\n",
    "\n",
    "result['Method'].extend(['LR' for _ in range(6)])"
   ]
  },
  {
   "cell_type": "markdown",
   "id": "7ed87f8c",
   "metadata": {
    "id": "7ed87f8c"
   },
   "source": [
    "# SVM"
   ]
  },
  {
   "cell_type": "code",
   "execution_count": null,
   "id": "63d1fa3b",
   "metadata": {
    "id": "63d1fa3b",
    "outputId": "31bce976-7b2a-4478-ba7f-5ca960fc8bfd"
   },
   "outputs": [
    {
     "name": "stdout",
     "output_type": "stream",
     "text": [
      "Results for linear kernel:\n",
      "Training Accuracy: 0.5950\n",
      "Testing Accuracy: 0.5819\n",
      "Training Kappa: 0.4893\n",
      "Testing Kappa: 0.4511\n",
      "Training Confusion Matrix:\n",
      "[[280 181  11  90 138]\n",
      " [114 574  86 172  54]\n",
      " [  2  99 567  26   6]\n",
      " [ 69 207  22 358  26]\n",
      " [144  54   9  43 503]]\n",
      "Testing Confusion Matrix:\n",
      "[[ 34  24   3  16  21]\n",
      " [ 41 216  31  65  22]\n",
      " [  3  18 103   5   3]\n",
      " [ 19  47   4  83   6]\n",
      " [ 37  14   1   8 104]]\n",
      "Training Dataset:\n",
      "Accuracy for class N1: 40.00%\n",
      "Accuracy for class N2: 57.40%\n",
      "Accuracy for class N3: 81.00%\n",
      "Accuracy for class R: 52.49%\n",
      "Accuracy for class W: 66.80%\n",
      "Testing Dataset:\n",
      "Accuracy for class N1: 34.69%\n",
      "Accuracy for class N2: 57.60%\n",
      "Accuracy for class N3: 78.03%\n",
      "Accuracy for class R: 52.20%\n",
      "Accuracy for class W: 63.41%\n",
      "\n",
      "\n"
     ]
    }
   ],
   "source": [
    "clf = SVC(kernel='linear', gamma='auto')\n",
    "\n",
    "clf.fit(X_train_scaled, y_train)\n",
    "\n",
    "\n",
    "y_train_pred = clf.predict(X_train_scaled)\n",
    "y_test_pred = clf.predict(X_test_scaled)\n",
    "\n",
    "\n",
    "train_accuracy = accuracy_score(y_train, y_train_pred)\n",
    "test_accuracy = accuracy_score(y_test, y_test_pred)\n",
    "train_kappa = cohen_kappa_score(y_train, y_train_pred)\n",
    "test_kappa = cohen_kappa_score(y_test, y_test_pred)\n",
    "\n",
    "\n",
    "train_confusion = confusion_matrix(y_train, y_train_pred)\n",
    "test_confusion = confusion_matrix(y_test, y_test_pred)\n",
    "\n",
    "print(f\"Results for {'linear'} kernel:\")\n",
    "print(f\"Training Accuracy: {train_accuracy:.4f}\")\n",
    "print(f\"Testing Accuracy: {test_accuracy:.4f}\")\n",
    "print(f\"Training Kappa: {train_kappa:.4f}\")\n",
    "print(f\"Testing Kappa: {test_kappa:.4f}\")\n",
    "print(\"Training Confusion Matrix:\")\n",
    "print(train_confusion)\n",
    "print(\"Testing Confusion Matrix:\")\n",
    "print(test_confusion)\n",
    "print_class_accuracy(y_train, y_train_pred, \"Training\")\n",
    "print_class_accuracy(y_test, y_test_pred, \"Testing\")\n",
    "print(\"\\n\")"
   ]
  },
  {
   "cell_type": "code",
   "execution_count": 22,
   "id": "17758dad",
   "metadata": {
    "id": "17758dad",
    "outputId": "a09019c8-008b-48ac-d0af-4a8ee8877e0d"
   },
   "outputs": [
    {
     "data": {
      "image/png": "[encoded data removed]",
      "text/plain": [
       "<Figure size 640x480 with 2 Axes>"
      ]
     },
     "metadata": {},
     "output_type": "display_data"
    }
   ],
   "source": [
    "test_confusion = pd.DataFrame(test_confusion, index=labels, columns=labels)\n",
    "\n",
    "#Plot the confusion matrix.\n",
    "sns.heatmap(test_confusion,\n",
    "            annot=True,\n",
    "            fmt='g')\n",
    "plt.ylabel('Prediction',fontsize=13)\n",
    "plt.xlabel('Actual',fontsize=13)\n",
    "plt.title('Confusion Matrix',fontsize=17)\n",
    "plt.show()"
   ]
  },
  {
   "cell_type": "code",
   "execution_count": null,
   "id": "a9dbe596",
   "metadata": {
    "id": "a9dbe596"
   },
   "outputs": [],
   "source": [
    "result['Accuracy'].append(test_accuracy*100)\n",
    "result['Stage'].append('Total')\n",
    "\n",
    "conf_matrix = confusion_matrix(y_test, y_test_pred)\n",
    "class_accuracy = 100 * conf_matrix.diagonal() / np.maximum(conf_matrix.sum(axis=1), 1)\n",
    "labels = np.unique(np.concatenate((y_test, y_test_pred)))\n",
    "\n",
    "for label, accuracy in zip(labels, class_accuracy):\n",
    "    result['Accuracy'].append(accuracy)\n",
    "    result['Stage'].append(label)\n",
    "\n",
    "result['Method'].extend(['SVM' for _ in range(6)])"
   ]
  },
  {
   "cell_type": "markdown",
   "id": "53d7730d",
   "metadata": {
    "id": "53d7730d"
   },
   "source": [
    "# kNN"
   ]
  },
  {
   "cell_type": "code",
   "execution_count": null,
   "id": "711688df",
   "metadata": {
    "id": "711688df",
    "outputId": "2233547a-24dd-4346-bcbe-f5954a33aedb"
   },
   "outputs": [
    {
     "name": "stdout",
     "output_type": "stream",
     "text": [
      "Best k: 1\n"
     ]
    }
   ],
   "source": [
    "# Define KNN model\n",
    "knn = KNeighborsClassifier()\n",
    "\n",
    "# Set the range of k values to search \n",
    "k_range = list(range(1, 31))\n",
    "param_grid = dict(n_neighbors=k_range)\n",
    "\n",
    "# Search using cross validation\n",
    "cv = GridSearchCV(knn, param_grid, cv=10, scoring='accuracy')\n",
    "cv.fit(X_train_scaled, y_train)\n",
    "#Obtain the average cross validation score corresponding to each k value\n",
    "mean_scores = cv.cv_results_['mean_test_score']\n",
    "\n",
    "# Output the optimal k value\n",
    "print('Best k:', cv.best_params_['n_neighbors'])"
   ]
  },
  {
   "cell_type": "code",
   "execution_count": null,
   "id": "73995980",
   "metadata": {
    "id": "73995980",
    "outputId": "c5b95e22-4d28-49e1-c566-cf01e83e725b"
   },
   "outputs": [
    {
     "data": {
      "image/png": "[encoded data removed]",
      "text/plain": [
       "<Figure size 640x480 with 1 Axes>"
      ]
     },
     "metadata": {},
     "output_type": "display_data"
    }
   ],
   "source": [
    "# Draw a graph of k values and cross validation accuracy\n",
    "plt.figure()\n",
    "plt.plot(k_range, mean_scores)\n",
    "plt.xlabel('Value of K for KNN')\n",
    "plt.ylabel('Cross-Validated Accuracy')\n",
    "plt.title('K-Value VS. Accuracy')\n",
    "\n",
    "# Highlight the optimal k-value point\n",
    "best_k = cv.best_params_['n_neighbors']\n",
    "best_score = max(mean_scores)\n",
    "plt.scatter(best_k, best_score, color='red', zorder=5)\n",
    "plt.grid(True)\n",
    "plt.show()"
   ]
  },
  {
   "cell_type": "code",
   "execution_count": null,
   "id": "725a298a",
   "metadata": {
    "id": "725a298a",
    "outputId": "e481842b-bb54-4511-c1c9-16e6e826b202"
   },
   "outputs": [
    {
     "data": {
      "text/html": [
       "<style>#sk-container-id-2 {color: black;}#sk-container-id-2 pre{padding: 0;}#sk-container-id-2 div.sk-toggleable {background-color: white;}#sk-container-id-2 label.sk-toggleable__label {cursor: pointer;display: block;width: 100%;margin-bottom: 0;padding: 0.3em;box-sizing: border-box;text-align: center;}#sk-container-id-2 label.sk-toggleable__label-arrow:before {content: \"▸\";float: left;margin-right: 0.25em;color: #696969;}#sk-container-id-2 label.sk-toggleable__label-arrow:hover:before {color: black;}#sk-container-id-2 div.sk-estimator:hover label.sk-toggleable__label-arrow:before {color: black;}#sk-container-id-2 div.sk-toggleable__content {max-height: 0;max-width: 0;overflow: hidden;text-align: left;background-color: #f0f8ff;}#sk-container-id-2 div.sk-toggleable__content pre {margin: 0.2em;color: black;border-radius: 0.25em;background-color: #f0f8ff;}#sk-container-id-2 input.sk-toggleable__control:checked~div.sk-toggleable__content {max-height: 200px;max-width: 100%;overflow: auto;}#sk-container-id-2 input.sk-toggleable__control:checked~label.sk-toggleable__label-arrow:before {content: \"▾\";}#sk-container-id-2 div.sk-estimator input.sk-toggleable__control:checked~label.sk-toggleable__label {background-color: #d4ebff;}#sk-container-id-2 div.sk-label input.sk-toggleable__control:checked~label.sk-toggleable__label {background-color: #d4ebff;}#sk-container-id-2 input.sk-hidden--visually {border: 0;clip: rect(1px 1px 1px 1px);clip: rect(1px, 1px, 1px, 1px);height: 1px;margin: -1px;overflow: hidden;padding: 0;position: absolute;width: 1px;}#sk-container-id-2 div.sk-estimator {font-family: monospace;background-color: #f0f8ff;border: 1px dotted black;border-radius: 0.25em;box-sizing: border-box;margin-bottom: 0.5em;}#sk-container-id-2 div.sk-estimator:hover {background-color: #d4ebff;}#sk-container-id-2 div.sk-parallel-item::after {content: \"\";width: 100%;border-bottom: 1px solid gray;flex-grow: 1;}#sk-container-id-2 div.sk-label:hover label.sk-toggleable__label {background-color: #d4ebff;}#sk-container-id-2 div.sk-serial::before {content: \"\";position: absolute;border-left: 1px solid gray;box-sizing: border-box;top: 0;bottom: 0;left: 50%;z-index: 0;}#sk-container-id-2 div.sk-serial {display: flex;flex-direction: column;align-items: center;background-color: white;padding-right: 0.2em;padding-left: 0.2em;position: relative;}#sk-container-id-2 div.sk-item {position: relative;z-index: 1;}#sk-container-id-2 div.sk-parallel {display: flex;align-items: stretch;justify-content: center;background-color: white;position: relative;}#sk-container-id-2 div.sk-item::before, #sk-container-id-2 div.sk-parallel-item::before {content: \"\";position: absolute;border-left: 1px solid gray;box-sizing: border-box;top: 0;bottom: 0;left: 50%;z-index: -1;}#sk-container-id-2 div.sk-parallel-item {display: flex;flex-direction: column;z-index: 1;position: relative;background-color: white;}#sk-container-id-2 div.sk-parallel-item:first-child::after {align-self: flex-end;width: 50%;}#sk-container-id-2 div.sk-parallel-item:last-child::after {align-self: flex-start;width: 50%;}#sk-container-id-2 div.sk-parallel-item:only-child::after {width: 0;}#sk-container-id-2 div.sk-dashed-wrapped {border: 1px dashed gray;margin: 0 0.4em 0.5em 0.4em;box-sizing: border-box;padding-bottom: 0.4em;background-color: white;}#sk-container-id-2 div.sk-label label {font-family: monospace;font-weight: bold;display: inline-block;line-height: 1.2em;}#sk-container-id-2 div.sk-label-container {text-align: center;}#sk-container-id-2 div.sk-container {/* jupyter's `normalize.less` sets `[hidden] { display: none; }` but bootstrap.min.css set `[hidden] { display: none !important; }` so we also need the `!important` here to be able to override the default hidden behavior on the sphinx rendered scikit-learn.org. See: https://github.com/scikit-learn/scikit-learn/issues/21755 */display: inline-block !important;position: relative;}#sk-container-id-2 div.sk-text-repr-fallback {display: none;}</style><div id=\"sk-container-id-2\" class=\"sk-top-container\"><div class=\"sk-text-repr-fallback\"><pre>KNeighborsClassifier(n_neighbors=1)</pre><b>In a Jupyter environment, please rerun this cell to show the HTML representation or trust the notebook. <br />On GitHub, the HTML representation is unable to render, please try loading this page with nbviewer.org.</b></div><div class=\"sk-container\" hidden><div class=\"sk-item\"><div class=\"sk-estimator sk-toggleable\"><input class=\"sk-toggleable__control sk-hidden--visually\" id=\"sk-estimator-id-2\" type=\"checkbox\" checked><label for=\"sk-estimator-id-2\" class=\"sk-toggleable__label sk-toggleable__label-arrow\">KNeighborsClassifier</label><div class=\"sk-toggleable__content\"><pre>KNeighborsClassifier(n_neighbors=1)</pre></div></div></div></div></div>"
      ],
      "text/plain": [
       "KNeighborsClassifier(n_neighbors=1)"
      ]
     },
     "execution_count": 38,
     "metadata": {},
     "output_type": "execute_result"
    }
   ],
   "source": [
    "# Use the best k value\n",
    "knn_best = KNeighborsClassifier(n_neighbors=1)\n",
    "knn_best.fit(X_train_scaled, y_train)"
   ]
  },
  {
   "cell_type": "code",
   "execution_count": null,
   "id": "e9b9b65c",
   "metadata": {
    "id": "e9b9b65c",
    "outputId": "94b70a47-1be8-4e03-f7fd-f7b6593be6ec"
   },
   "outputs": [
    {
     "name": "stdout",
     "output_type": "stream",
     "text": [
      "Confusion Matrix:\n",
      "[[ 28  33   2  14  21]\n",
      " [ 40 222  40  54  19]\n",
      " [  1  22 103   4   2]\n",
      " [ 22  35   3  91   8]\n",
      " [ 32  13   2  12 105]]\n",
      "Accuracy: 0.5915948275862069\n"
     ]
    }
   ],
   "source": [
    "y_pred = knn_best.predict(X_test_scaled)\n",
    "\n",
    "conf_matrix = confusion_matrix(y_test, y_pred)\n",
    "print('Confusion Matrix:')\n",
    "print(conf_matrix)\n",
    "\n",
    "accuracy = accuracy_score(y_test, y_pred)\n",
    "print('Accuracy:', accuracy)"
   ]
  },
  {
   "cell_type": "code",
   "execution_count": null,
   "id": "04356147",
   "metadata": {
    "id": "04356147",
    "outputId": "3e9e0491-c599-43ea-d719-4befd59704de"
   },
   "outputs": [
    {
     "name": "stdout",
     "output_type": "stream",
     "text": [
      "Testing Dataset:\n",
      "Accuracy for class N1: 28.57%\n",
      "Accuracy for class N2: 59.20%\n",
      "Accuracy for class N3: 78.03%\n",
      "Accuracy for class R: 57.23%\n",
      "Accuracy for class W: 64.02%\n"
     ]
    }
   ],
   "source": [
    "print_class_accuracy(y_test, y_pred, \"Testing\")"
   ]
  },
  {
   "cell_type": "code",
   "execution_count": null,
   "id": "87347592",
   "metadata": {
    "id": "87347592",
    "outputId": "6ccd27ef-9963-44d0-faed-067983fb72e9"
   },
   "outputs": [
    {
     "data": {
      "image/png": "[encoded data removed]",
      "text/plain": [
       "<Figure size 640x480 with 2 Axes>"
      ]
     },
     "metadata": {},
     "output_type": "display_data"
    }
   ],
   "source": [
    "#Plot the confusion matrix.\n",
    "sns.heatmap(conf_matrix,\n",
    "            annot=True,\n",
    "            fmt='g')\n",
    "plt.ylabel('Prediction',fontsize=13)\n",
    "plt.xlabel('Actual',fontsize=13)\n",
    "plt.title('Confusion Matrix',fontsize=17)\n",
    "plt.show()"
   ]
  },
  {
   "cell_type": "code",
   "execution_count": null,
   "id": "983dc1f1",
   "metadata": {
    "id": "983dc1f1"
   },
   "outputs": [],
   "source": [
    "result['Accuracy'].append(accuracy*100)\n",
    "result['Stage'].append('Total')\n",
    "\n",
    "conf_matrix = confusion_matrix(y_test, y_pred)\n",
    "class_accuracy = 100 * conf_matrix.diagonal() / np.maximum(conf_matrix.sum(axis=1), 1)\n",
    "labels = np.unique(np.concatenate((y_test, y_pred)))\n",
    "\n",
    "for label, accuracy in zip(labels, class_accuracy):\n",
    "    result['Accuracy'].append(accuracy)\n",
    "    result['Stage'].append(label)\n",
    "\n",
    "result['Method'].extend(['KNN' for _ in range(6)])"
   ]
  },
  {
   "cell_type": "markdown",
   "id": "d7d88f21",
   "metadata": {
    "id": "d7d88f21"
   },
   "source": [
    "# NN"
   ]
  },
  {
   "cell_type": "code",
   "execution_count": 13,
   "id": "92f522f5",
   "metadata": {
    "id": "92f522f5"
   },
   "outputs": [],
   "source": [
    "label_encoder = LabelEncoder()\n",
    "y_encoded_train = label_encoder.fit_transform(y_train)\n",
    "y_encoded_test = label_encoder.fit_transform(y_test)\n",
    "\n",
    "X_tensor_train = torch.tensor(X_train_scaled)  # Adding channel dimension\n",
    "y_tensor_train = torch.tensor(y_encoded_train, dtype=torch.long)\n",
    "\n",
    "X_tensor_test = torch.tensor(X_test_scaled)  # Adding channel dimension\n",
    "y_tensor_test = torch.tensor(y_encoded_test, dtype=torch.long)"
   ]
  },
  {
   "cell_type": "code",
   "execution_count": 14,
   "id": "0a50f0ee",
   "metadata": {
    "id": "0a50f0ee"
   },
   "outputs": [],
   "source": [
    "# Create DataLoaders for train and validation sets\n",
    "train_dataloader = DataLoader(TensorDataset(X_tensor_train, y_tensor_train), batch_size=32, shuffle=True)\n",
    "val_dataloader = DataLoader(TensorDataset(X_tensor_test, y_tensor_test), batch_size=32, shuffle=False)"
   ]
  },
  {
   "cell_type": "code",
   "execution_count": 15,
   "id": "d908353a",
   "metadata": {
    "executionInfo": {
     "elapsed": 150,
     "status": "ok",
     "timestamp": 1700088232465,
     "user": {
      "displayName": "Qizheng Xia",
      "userId": "07735350061252297066"
     },
     "user_tz": 360
    },
    "id": "d908353a"
   },
   "outputs": [],
   "source": [
    "# Function to calculate accuracy\n",
    "def calculate_accuracy(dataloader,model):\n",
    "    correct = 0\n",
    "    total = 0\n",
    "    with torch.no_grad():\n",
    "        for data in dataloader:\n",
    "            inputs, labels = data\n",
    "            outputs = model(inputs.float())\n",
    "            _, predicted = torch.max(outputs.data, 1)\n",
    "            total += labels.size(0)\n",
    "            correct += (predicted == labels).sum().item()\n",
    "    return correct / total"
   ]
  },
  {
   "cell_type": "code",
   "execution_count": 16,
   "id": "0cdd59bb",
   "metadata": {
    "id": "0cdd59bb"
   },
   "outputs": [],
   "source": [
    "class MultiClassNetwork(nn.Module):\n",
    "    def __init__(self, num_classes):\n",
    "        super(MultiClassNetwork, self).__init__()\n",
    "        self.fc1 = nn.Linear(22, 128)\n",
    "        self.bn1 = nn.BatchNorm1d(128)  \n",
    "        self.fc2 = nn.Linear(128, 256)\n",
    "        self.bn2 = nn.BatchNorm1d(256)  \n",
    "        #self.fc3 = nn.Linear(256, 200)\n",
    "       # self.bn3 = nn.BatchNorm1d(200)  \n",
    "        self.fc4 = nn.Linear(256, num_classes)\n",
    "\n",
    "    def forward(self, x):\n",
    "        x = self.fc1(x)\n",
    "        x = self.bn1(x)  \n",
    "        x = F.relu(x)\n",
    "        x = self.fc2(x)\n",
    "        x = self.bn2(x)  \n",
    "        x = F.relu(x)\n",
    "        #x = self.fc3(x)\n",
    "        #x = self.bn3(x)  #\n",
    "        #x = F.relu(x)\n",
    "        x = self.fc4(x)\n",
    "        return F.log_softmax(x, dim=1)\n"
   ]
  },
  {
   "cell_type": "code",
   "execution_count": 20,
   "id": "e33acc5b",
   "metadata": {
    "id": "e33acc5b"
   },
   "outputs": [],
   "source": [
    "num_classes = 5\n",
    "model = MultiClassNetwork(num_classes)\n",
    "\n",
    "# Define loss function and optimizer\n",
    "criterion = nn.CrossEntropyLoss()\n",
    "optimizer = optim.Adam(model.parameters(), lr=0.001)"
   ]
  },
  {
   "cell_type": "code",
   "execution_count": 21,
   "id": "ccd8394a",
   "metadata": {
    "id": "ccd8394a"
   },
   "outputs": [
    {
     "name": "stdout",
     "output_type": "stream",
     "text": [
      "Epoch 1/15, Loss: 1.0394434928894043, Train acc: 0.6432855280312908, Val acc: 0.5948275862068966\n",
      "Epoch 2/15, Loss: 0.7631656527519226, Train acc: 0.6774445893089961, Val acc: 0.6400862068965517\n",
      "Epoch 3/15, Loss: 0.7411239147186279, Train acc: 0.7126466753585398, Val acc: 0.6637931034482759\n",
      "Epoch 4/15, Loss: 0.977850615978241, Train acc: 0.7348109517601042, Val acc: 0.6702586206896551\n",
      "Epoch 5/15, Loss: 0.978772759437561, Train acc: 0.748109517601043, Val acc: 0.6702586206896551\n",
      "Epoch 6/15, Loss: 0.7137036323547363, Train acc: 0.7371577574967405, Val acc: 0.6928879310344828\n",
      "Epoch 7/15, Loss: 0.6105046272277832, Train acc: 0.7726205997392438, Val acc: 0.6476293103448276\n",
      "Epoch 8/15, Loss: 0.6527445912361145, Train acc: 0.7835723598435462, Val acc: 0.7230603448275862\n",
      "Epoch 9/15, Loss: 0.7731680274009705, Train acc: 0.7723598435462842, Val acc: 0.6573275862068966\n",
      "Epoch 10/15, Loss: 0.6952471733093262, Train acc: 0.7663624511082138, Val acc: 0.6637931034482759\n",
      "Epoch 11/15, Loss: 0.45890215039253235, Train acc: 0.8015645371577576, Val acc: 0.6950431034482759\n",
      "Epoch 12/15, Loss: 0.8553123474121094, Train acc: 0.8297262059973924, Val acc: 0.7295258620689655\n",
      "Epoch 13/15, Loss: 1.0928095579147339, Train acc: 0.8414602346805736, Val acc: 0.7025862068965517\n",
      "Epoch 14/15, Loss: 0.534767210483551, Train acc: 0.8146023468057366, Val acc: 0.7068965517241379\n",
      "Epoch 15/15, Loss: 0.6596936583518982, Train acc: 0.8195567144719688, Val acc: 0.6282327586206896\n"
     ]
    }
   ],
   "source": [
    "num_epochs = 15\n",
    "for epoch in range(num_epochs):\n",
    "    model.train()\n",
    "    for inputs, labels in train_dataloader:\n",
    "        optimizer.zero_grad()\n",
    "        outputs = model(inputs.float())\n",
    "        loss = criterion(outputs, labels)\n",
    "        loss.backward()\n",
    "        optimizer.step()\n",
    "\n",
    "    model.eval()\n",
    "    train_acc = calculate_accuracy(train_dataloader,model)\n",
    "    val_acc = calculate_accuracy(val_dataloader,model)\n",
    "    print(f'Epoch {epoch+1}/{num_epochs}, Loss: {loss.item()}, Train acc: {train_acc}, Val acc: {val_acc}')"
   ]
  },
  {
   "cell_type": "code",
   "execution_count": null,
   "id": "a3bd2c3a",
   "metadata": {
    "id": "a3bd2c3a",
    "outputId": "05a21e54-e93c-4db1-ad49-396f21a39e2a"
   },
   "outputs": [
    {
     "name": "stdout",
     "output_type": "stream",
     "text": [
      "Accuracy: 0.740301724137931\n",
      "Confusion Matrix:\n",
      "[[ 25  35   0  14  24]\n",
      " [ 24 281  26  27  17]\n",
      " [  1  21 110   0   0]\n",
      " [  5  15   0 134   5]\n",
      " [ 18   6   1   2 137]]\n"
     ]
    }
   ],
   "source": [
    "# Evaluate the model to calculate accuracy and confusion matrix\n",
    "model.eval()\n",
    "all_preds = []\n",
    "all_labels = []\n",
    "with torch.no_grad():\n",
    "    for inputs, labels in val_dataloader:\n",
    "        inputs = inputs.float()  # Ensure that the input data is of type Float\n",
    "        outputs = model(inputs)\n",
    "        _, predicted = torch.max(outputs.data, 1)\n",
    "        all_preds.extend(predicted.numpy())\n",
    "        all_labels.extend(labels.numpy())\n",
    "\n",
    "# Calculate accuracy\n",
    "accuracy = accuracy_score(all_labels, all_preds)\n",
    "print(f'Accuracy: {accuracy}')\n",
    "\n",
    "# Calculate confusion matrix\n",
    "conf_matrix = confusion_matrix(all_labels, all_preds)\n",
    "print(f'Confusion Matrix:\\n{conf_matrix}')"
   ]
  },
  {
   "cell_type": "code",
   "execution_count": null,
   "id": "9ac55603",
   "metadata": {
    "id": "9ac55603",
    "outputId": "ec462a55-fc51-4b8e-8708-13b00c3ccece"
   },
   "outputs": [
    {
     "name": "stdout",
     "output_type": "stream",
     "text": [
      "Testing Dataset:\n",
      "Accuracy for class 0: 25.51%\n",
      "Accuracy for class 1: 74.93%\n",
      "Accuracy for class 2: 83.33%\n",
      "Accuracy for class 3: 84.28%\n",
      "Accuracy for class 4: 83.54%\n"
     ]
    }
   ],
   "source": [
    "print_class_accuracy(all_labels, all_preds, \"Testing\")"
   ]
  },
  {
   "cell_type": "code",
   "execution_count": 25,
   "id": "9251885f",
   "metadata": {
    "id": "9251885f",
    "outputId": "56eede3b-a009-452e-94e1-6e4fd6cc8842"
   },
   "outputs": [
    {
     "data": {
      "image/png": "[encoded data removed]",
      "text/plain": [
       "<Figure size 640x480 with 2 Axes>"
      ]
     },
     "metadata": {},
     "output_type": "display_data"
    }
   ],
   "source": [
    "conf_matrix = pd.DataFrame(conf_matrix, index=labels, columns=labels)\n",
    "\n",
    "#Plot the confusion matrix.\n",
    "sns.heatmap(conf_matrix,\n",
    "            annot=True,\n",
    "            fmt='g')\n",
    "plt.ylabel('Prediction',fontsize=13)\n",
    "plt.xlabel('Actual',fontsize=13)\n",
    "plt.title('Confusion Matrix',fontsize=17)\n",
    "plt.show()"
   ]
  },
  {
   "cell_type": "code",
   "execution_count": null,
   "id": "3c4011c2",
   "metadata": {
    "id": "3c4011c2"
   },
   "outputs": [],
   "source": [
    "result['Accuracy'].append(accuracy*100)\n",
    "result['Stage'].append('Total')\n",
    "\n",
    "class_accuracy = 100 * conf_matrix.diagonal() / np.maximum(conf_matrix.sum(axis=1), 1)\n",
    "labels = np.unique(np.concatenate((all_labels, all_preds)))\n",
    "\n",
    "for label, accuracy in zip(labels, class_accuracy):\n",
    "    result['Accuracy'].append(accuracy)\n",
    "    result['Stage'].append(label)\n",
    "\n",
    "result['Method'].extend(['NN' for _ in range(6)])"
   ]
  },
  {
   "cell_type": "code",
   "execution_count": null,
   "id": "d4bb4292",
   "metadata": {
    "id": "d4bb4292"
   },
   "outputs": [],
   "source": [
    "results = pd.DataFrame(result)"
   ]
  },
  {
   "cell_type": "code",
   "execution_count": null,
   "id": "2e43a9b8",
   "metadata": {
    "id": "2e43a9b8"
   },
   "outputs": [],
   "source": [
    "results.to_csv('results.csv',index = False)"
   ]
  },
  {
   "cell_type": "code",
   "execution_count": null,
   "id": "f0686cfe",
   "metadata": {
    "id": "f0686cfe"
   },
   "outputs": [],
   "source": [
    "results = pd.read_csv('results.csv')"
   ]
  },
  {
   "cell_type": "code",
   "execution_count": null,
   "id": "f161a46f",
   "metadata": {
    "id": "f161a46f"
   },
   "outputs": [],
   "source": [
    "# Adjusting the pivot table and plot to group by 'Method', color by 'Stage', and display only group names in the legend\n",
    "pivot_table = results.pivot_table(index='Method', columns='Stage', values='Accuracy', aggfunc='mean')\n",
    "\n",
    "pivot_table = pivot_table[['Total'] + [col for col in pivot_table.columns if col != 'Total']]"
   ]
  },
  {
   "cell_type": "code",
   "execution_count": null,
   "id": "4577856f",
   "metadata": {
    "id": "4577856f",
    "outputId": "3608a7cd-39dc-4301-807e-354e2538f152"
   },
   "outputs": [
    {
     "data": {
      "text/html": [
       "<div>\n",
       "<style scoped>\n",
       "    .dataframe tbody tr th:only-of-type {\n",
       "        vertical-align: middle;\n",
       "    }\n",
       "\n",
       "    .dataframe tbody tr th {\n",
       "        vertical-align: top;\n",
       "    }\n",
       "\n",
       "    .dataframe thead th {\n",
       "        text-align: right;\n",
       "    }\n",
       "</style>\n",
       "<table border=\"1\" class=\"dataframe\">\n",
       "  <thead>\n",
       "    <tr style=\"text-align: right;\">\n",
       "      <th>Stage</th>\n",
       "      <th>Total</th>\n",
       "      <th>N1</th>\n",
       "      <th>N2</th>\n",
       "      <th>N3</th>\n",
       "      <th>R</th>\n",
       "      <th>W</th>\n",
       "    </tr>\n",
       "    <tr>\n",
       "      <th>Method</th>\n",
       "      <th></th>\n",
       "      <th></th>\n",
       "      <th></th>\n",
       "      <th></th>\n",
       "      <th></th>\n",
       "      <th></th>\n",
       "    </tr>\n",
       "  </thead>\n",
       "  <tbody>\n",
       "    <tr>\n",
       "      <th>LR</th>\n",
       "      <td>58.728448</td>\n",
       "      <td>30.612245</td>\n",
       "      <td>60.533333</td>\n",
       "      <td>80.303030</td>\n",
       "      <td>47.798742</td>\n",
       "      <td>64.634146</td>\n",
       "    </tr>\n",
       "    <tr>\n",
       "      <th>NN</th>\n",
       "      <td>74.030172</td>\n",
       "      <td>25.510000</td>\n",
       "      <td>74.930000</td>\n",
       "      <td>83.330000</td>\n",
       "      <td>84.280000</td>\n",
       "      <td>83.540000</td>\n",
       "    </tr>\n",
       "    <tr>\n",
       "      <th>RF</th>\n",
       "      <td>73.706897</td>\n",
       "      <td>37.760000</td>\n",
       "      <td>74.640000</td>\n",
       "      <td>81.060000</td>\n",
       "      <td>76.100000</td>\n",
       "      <td>84.760000</td>\n",
       "    </tr>\n",
       "    <tr>\n",
       "      <th>SVM</th>\n",
       "      <td>58.189655</td>\n",
       "      <td>34.693878</td>\n",
       "      <td>57.600000</td>\n",
       "      <td>78.030303</td>\n",
       "      <td>52.201258</td>\n",
       "      <td>63.414634</td>\n",
       "    </tr>\n",
       "  </tbody>\n",
       "</table>\n",
       "</div>"
      ],
      "text/plain": [
       "Stage       Total         N1         N2         N3          R          W\n",
       "Method                                                                  \n",
       "LR      58.728448  30.612245  60.533333  80.303030  47.798742  64.634146\n",
       "NN      74.030172  25.510000  74.930000  83.330000  84.280000  83.540000\n",
       "RF      73.706897  37.760000  74.640000  81.060000  76.100000  84.760000\n",
       "SVM     58.189655  34.693878  57.600000  78.030303  52.201258  63.414634"
      ]
     },
     "execution_count": 5,
     "metadata": {},
     "output_type": "execute_result"
    }
   ],
   "source": [
    "pivot_table"
   ]
  },
  {
   "cell_type": "code",
   "execution_count": null,
   "id": "66b4c387",
   "metadata": {
    "id": "66b4c387",
    "outputId": "71aab2ec-d874-4f8c-ccad-234213d296a0"
   },
   "outputs": [
    {
     "data": {
      "image/png": "[encoded data removed]",
      "text/plain": [
       "<Figure size 1000x600 with 1 Axes>"
      ]
     },
     "metadata": {},
     "output_type": "display_data"
    }
   ],
   "source": [
    "# Defining custom colors\n",
    "custom_colors = {\n",
    "    'Total': 'red',\n",
    "    'N1': 'blue',\n",
    "    'N2': 'dodgerblue',\n",
    "    'N3': 'darkblue',\n",
    "    'R': 'green',\n",
    "    'W': 'orange'\n",
    "}\n",
    "# Enlarging the plot size for better clarity\n",
    "plt.figure(figsize=(10, 6))\n",
    "\n",
    "# Replotting the chart with the improved color palette\n",
    "pivot_table.plot(kind='bar', stacked=False, color=[custom_colors[stage] for stage in pivot_table.columns], ax=plt.gca())\n",
    "plt.xlabel('Method')\n",
    "plt.ylabel('Accuracy (%)')\n",
    "#plt.title('Grouped Bar Chart by Method and Stage with Optimized Colors')\n",
    "plt.legend(title='Stage', bbox_to_anchor=(1.05, 1), loc='upper left')\n",
    "plt.tight_layout()\n",
    "plt.show()\n"
   ]
  },
  {
   "cell_type": "markdown",
   "id": "h8PBCnPtFYbE",
   "metadata": {
    "id": "h8PBCnPtFYbE"
   },
   "source": [
    "# PCA"
   ]
  },
  {
   "cell_type": "code",
   "execution_count": 14,
   "id": "402a07da",
   "metadata": {
    "executionInfo": {
     "elapsed": 4,
     "status": "ok",
     "timestamp": 1700087336019,
     "user": {
      "displayName": "Qizheng Xia",
      "userId": "07735350061252297066"
     },
     "user_tz": 360
    },
    "id": "402a07da"
   },
   "outputs": [],
   "source": [
    "from sklearn.decomposition import PCA"
   ]
  },
  {
   "cell_type": "code",
   "execution_count": 73,
   "id": "vuVb9i0NGhDb",
   "metadata": {
    "executionInfo": {
     "elapsed": 137,
     "status": "ok",
     "timestamp": 1700088568522,
     "user": {
      "displayName": "Qizheng Xia",
      "userId": "07735350061252297066"
     },
     "user_tz": 360
    },
    "id": "vuVb9i0NGhDb"
   },
   "outputs": [],
   "source": [
    "# Fit PCA\n",
    "scaler = StandardScaler()\n",
    "X_scaled = scaler.fit_transform(x)\n",
    "\n",
    "pca = PCA().fit(X_scaled)"
   ]
  },
  {
   "cell_type": "code",
   "execution_count": 74,
   "id": "WRtoIyf6Gp47",
   "metadata": {
    "colab": {
     "base_uri": "https://localhost:8080/",
     "height": 582
    },
    "executionInfo": {
     "elapsed": 507,
     "status": "ok",
     "timestamp": 1700088570181,
     "user": {
      "displayName": "Qizheng Xia",
      "userId": "07735350061252297066"
     },
     "user_tz": 360
    },
    "id": "WRtoIyf6Gp47",
    "outputId": "d7fdff2c-b66c-4882-ce33-2edf40cce2c2"
   },
   "outputs": [
    {
     "data": {
      "image/png": "[encoded data removed]",
      "text/plain": [
       "<Figure size 1000x600 with 1 Axes>"
      ]
     },
     "metadata": {},
     "output_type": "display_data"
    },
    {
     "data": {
      "text/plain": [
       "13"
      ]
     },
     "execution_count": 74,
     "metadata": {},
     "output_type": "execute_result"
    }
   ],
   "source": [
    "cumulative_variance_ratio = np.cumsum(pca.explained_variance_ratio_)\n",
    "n_components_for_95_variance = np.argmax(cumulative_variance_ratio >= 0.95) + 1\n",
    "\n",
    "# Plotting\n",
    "plt.figure(figsize=(10, 6))\n",
    "plt.plot(cumulative_variance_ratio, marker='o')\n",
    "plt.xlabel('Number of Components')\n",
    "plt.ylabel('Cumulative Explained Variance')\n",
    "plt.title('Explained Variance by Different Principal Components')\n",
    "plt.axhline(y=0.95, color='r', linestyle='-')\n",
    "plt.text(0.5, 0.85, '95% cut-off threshold', color = 'red', fontsize=12)\n",
    "plt.grid(True)\n",
    "plt.show()\n",
    "\n",
    "n_components_for_95_variance"
   ]
  },
  {
   "cell_type": "code",
   "execution_count": 36,
   "id": "EO4i_9f1Gxnt",
   "metadata": {
    "executionInfo": {
     "elapsed": 142,
     "status": "ok",
     "timestamp": 1700088003799,
     "user": {
      "displayName": "Qizheng Xia",
      "userId": "07735350061252297066"
     },
     "user_tz": 360
    },
    "id": "EO4i_9f1Gxnt"
   },
   "outputs": [],
   "source": [
    "pca = PCA(n_components=11)\n",
    "X_pca = pca.fit_transform(X_scaled)"
   ]
  },
  {
   "cell_type": "code",
   "execution_count": 37,
   "id": "vLrKZaWtJD9L",
   "metadata": {
    "executionInfo": {
     "elapsed": 214,
     "status": "ok",
     "timestamp": 1700088013291,
     "user": {
      "displayName": "Qizheng Xia",
      "userId": "07735350061252297066"
     },
     "user_tz": 360
    },
    "id": "vLrKZaWtJD9L"
   },
   "outputs": [],
   "source": [
    "# Split the dataset into training and testing sets\n",
    "X_train, X_test, y_train, y_test = train_test_split(X_pca, y, test_size=0.2, random_state=24)"
   ]
  },
  {
   "cell_type": "code",
   "execution_count": 39,
   "id": "4qIohExLJGfC",
   "metadata": {
    "executionInfo": {
     "elapsed": 144,
     "status": "ok",
     "timestamp": 1700088053783,
     "user": {
      "displayName": "Qizheng Xia",
      "userId": "07735350061252297066"
     },
     "user_tz": 360
    },
    "id": "4qIohExLJGfC"
   },
   "outputs": [],
   "source": [
    "over_strategy = {'N1': 700, 'N3': 700}\n",
    "under_strategy = {'N2': 1000}\n",
    "over = SMOTE(sampling_strategy=over_strategy)\n",
    "under = RandomUnderSampler(sampling_strategy=under_strategy)\n",
    "\n",
    "pipeline_resample = Pipeline(steps=[('o', over) , ('u' , under)])\n",
    "\n",
    "\n",
    "X_resampled, y_resampled = pipeline_resample.fit_resample(X_train, y_train)\n",
    "y_train = y_resampled\n",
    "X_train = X_resampled"
   ]
  },
  {
   "cell_type": "code",
   "execution_count": 62,
   "id": "nDyR55wMIa7G",
   "metadata": {
    "executionInfo": {
     "elapsed": 146,
     "status": "ok",
     "timestamp": 1700088444775,
     "user": {
      "displayName": "Qizheng Xia",
      "userId": "07735350061252297066"
     },
     "user_tz": 360
    },
    "id": "nDyR55wMIa7G"
   },
   "outputs": [],
   "source": [
    "label_encoder = LabelEncoder()\n",
    "y_encoded_train = label_encoder.fit_transform(y_train)\n",
    "y_encoded_test = label_encoder.fit_transform(y_test)\n",
    "\n",
    "X_tensor_train = torch.tensor(X_train)\n",
    "y_tensor_train = torch.tensor(y_encoded_train, dtype=torch.long)\n",
    "\n",
    "X_tensor_test = torch.tensor(X_test)\n",
    "y_tensor_test = torch.tensor(y_encoded_test, dtype=torch.long)"
   ]
  },
  {
   "cell_type": "code",
   "execution_count": 63,
   "id": "fdv2AkDZJj34",
   "metadata": {
    "executionInfo": {
     "elapsed": 243,
     "status": "ok",
     "timestamp": 1700088446021,
     "user": {
      "displayName": "Qizheng Xia",
      "userId": "07735350061252297066"
     },
     "user_tz": 360
    },
    "id": "fdv2AkDZJj34"
   },
   "outputs": [],
   "source": [
    "# Create DataLoaders for train and validation sets\n",
    "train_dataloader = DataLoader(TensorDataset(X_tensor_train, y_tensor_train), batch_size=32, shuffle=True)\n",
    "val_dataloader = DataLoader(TensorDataset(X_tensor_test, y_tensor_test), batch_size=32, shuffle=False)"
   ]
  },
  {
   "cell_type": "code",
   "execution_count": 70,
   "id": "ruk8lzpCHTJE",
   "metadata": {
    "executionInfo": {
     "elapsed": 354,
     "status": "ok",
     "timestamp": 1700088536345,
     "user": {
      "displayName": "Qizheng Xia",
      "userId": "07735350061252297066"
     },
     "user_tz": 360
    },
    "id": "ruk8lzpCHTJE"
   },
   "outputs": [],
   "source": [
    "# Define a neural network\n",
    "class NN_PCA(nn.Module):\n",
    "    def __init__(self):\n",
    "        super(NN_PCA, self).__init__()\n",
    "        self.fc1 = nn.Linear(11, 128)\n",
    "        self.bn1 = nn.BatchNorm1d(128)  \n",
    "        self.fc2 = nn.Linear(128, 256)\n",
    "        self.bn2 = nn.BatchNorm1d(256)  \n",
    "        self.fc3 = nn.Linear(256, 150)\n",
    "        self.bn3 = nn.BatchNorm1d(150)  \n",
    "        self.fc4 = nn.Linear(150, 5)\n",
    "\n",
    "    def forward(self, x):\n",
    "        x = self.fc1(x)\n",
    "        x = self.bn1(x)  \n",
    "        x = F.relu(x)\n",
    "        x = self.fc2(x)\n",
    "        x = self.bn2(x)  \n",
    "        x = F.relu(x)\n",
    "        x = self.fc3(x)\n",
    "        x = self.bn3(x)  \n",
    "        x = F.relu(x)\n",
    "        x = self.fc4(x)\n",
    "        return F.log_softmax(x, dim=1)"
   ]
  },
  {
   "cell_type": "code",
   "execution_count": 71,
   "id": "mSgNBiA1HvQg",
   "metadata": {
    "executionInfo": {
     "elapsed": 264,
     "status": "ok",
     "timestamp": 1700088537771,
     "user": {
      "displayName": "Qizheng Xia",
      "userId": "07735350061252297066"
     },
     "user_tz": 360
    },
    "id": "mSgNBiA1HvQg"
   },
   "outputs": [],
   "source": [
    "\n",
    "# Instantiate the model, define loss function and optimizer\n",
    "model = NN_PCA()\n",
    "criterion = nn.CrossEntropyLoss()\n",
    "optimizer = optim.Adam(model.parameters(), lr=0.001)"
   ]
  },
  {
   "cell_type": "code",
   "execution_count": 75,
   "id": "OePntN_9H3Mh",
   "metadata": {
    "colab": {
     "base_uri": "https://localhost:8080/"
    },
    "executionInfo": {
     "elapsed": 12563,
     "status": "ok",
     "timestamp": 1700088640792,
     "user": {
      "displayName": "Qizheng Xia",
      "userId": "07735350061252297066"
     },
     "user_tz": 360
    },
    "id": "OePntN_9H3Mh",
    "outputId": "ed385f50-ac47-4714-d2f6-167497e00f83"
   },
   "outputs": [
    {
     "name": "stdout",
     "output_type": "stream",
     "text": [
      "Epoch 1/10, Loss: 1.0016206502914429, Train acc: 0.8221642764015645, Val acc: 0.6185344827586207\n",
      "Epoch 2/10, Loss: 1.1953284740447998, Train acc: 0.8338983050847457, Val acc: 0.6196120689655172\n",
      "Epoch 3/10, Loss: 0.5412125587463379, Train acc: 0.842503259452412, Val acc: 0.5980603448275862\n",
      "Epoch 4/10, Loss: 0.8822850584983826, Train acc: 0.8492829204693612, Val acc: 0.6163793103448276\n",
      "Epoch 5/10, Loss: 0.6745414137840271, Train acc: 0.8576271186440678, Val acc: 0.6336206896551724\n",
      "Epoch 6/10, Loss: 0.5142504572868347, Train acc: 0.8646675358539765, Val acc: 0.6497844827586207\n",
      "Epoch 7/10, Loss: 0.5725838541984558, Train acc: 0.8482398956975228, Val acc: 0.6163793103448276\n",
      "Epoch 8/10, Loss: 0.88225257396698, Train acc: 0.8586701434159061, Val acc: 0.6131465517241379\n",
      "Epoch 9/10, Loss: 0.4502094089984894, Train acc: 0.8672750977835724, Val acc: 0.6012931034482759\n",
      "Epoch 10/10, Loss: 0.38187500834465027, Train acc: 0.878748370273794, Val acc: 0.5980603448275862\n"
     ]
    }
   ],
   "source": [
    "# Training loop with accuracy evaluation per epoch\n",
    "num_epochs = 10\n",
    "for epoch in range(num_epochs):\n",
    "    model.train()\n",
    "    for inputs, labels in train_dataloader:\n",
    "        optimizer.zero_grad()\n",
    "        outputs = model(inputs.float())\n",
    "        loss = criterion(outputs, labels)\n",
    "        loss.backward()\n",
    "        optimizer.step()\n",
    "\n",
    "    model.eval()\n",
    "    train_acc = calculate_accuracy(train_dataloader,model)\n",
    "    val_acc = calculate_accuracy(val_dataloader,model)\n",
    "    print(f'Epoch {epoch+1}/{num_epochs}, Loss: {loss.item()}, Train acc: {train_acc}, Val acc: {val_acc}')"
   ]
  },
  {
   "cell_type": "code",
   "execution_count": 76,
   "id": "SRKqho__LjC-",
   "metadata": {
    "colab": {
     "base_uri": "https://localhost:8080/"
    },
    "executionInfo": {
     "elapsed": 366,
     "status": "ok",
     "timestamp": 1700088659732,
     "user": {
      "displayName": "Qizheng Xia",
      "userId": "07735350061252297066"
     },
     "user_tz": 360
    },
    "id": "SRKqho__LjC-",
    "outputId": "0b6fb126-e175-46bd-f1fb-46c9011eeba5"
   },
   "outputs": [
    {
     "name": "stdout",
     "output_type": "stream",
     "text": [
      "Accuracy: 0.5980603448275862\n",
      "Confusion Matrix:\n",
      "[[ 32  20   1  21  24]\n",
      " [ 44 193  44  69  25]\n",
      " [  2  14 110   4   2]\n",
      " [ 18  27   1 107   6]\n",
      " [ 35   9   4   3 113]]\n"
     ]
    }
   ],
   "source": [
    "# Evaluate the model to calculate accuracy and confusion matrix\n",
    "model.eval()\n",
    "all_preds = []\n",
    "all_labels = []\n",
    "with torch.no_grad():\n",
    "    for inputs, labels in val_dataloader:\n",
    "        inputs = inputs.float()  \n",
    "        outputs = model(inputs)\n",
    "        _, predicted = torch.max(outputs.data, 1)\n",
    "        all_preds.extend(predicted.numpy())\n",
    "        all_labels.extend(labels.numpy())\n",
    "\n",
    "# Calculate accuracy\n",
    "accuracy = accuracy_score(all_labels, all_preds)\n",
    "print(f'Accuracy: {accuracy}')\n",
    "\n",
    "# Calculate confusion matrix\n",
    "conf_matrix = confusion_matrix(all_labels, all_preds)\n",
    "print(f'Confusion Matrix:\\n{conf_matrix}')"
   ]
  },
  {
   "cell_type": "code",
   "execution_count": 77,
   "id": "6kW6PNbwLq9K",
   "metadata": {
    "colab": {
     "base_uri": "https://localhost:8080/"
    },
    "executionInfo": {
     "elapsed": 152,
     "status": "ok",
     "timestamp": 1700088690189,
     "user": {
      "displayName": "Qizheng Xia",
      "userId": "07735350061252297066"
     },
     "user_tz": 360
    },
    "id": "6kW6PNbwLq9K",
    "outputId": "1f6b88c8-60f7-409f-ca4b-39b495461638"
   },
   "outputs": [
    {
     "name": "stdout",
     "output_type": "stream",
     "text": [
      "Testing Dataset:\n",
      "Accuracy for class 0: 32.65%\n",
      "Accuracy for class 1: 51.47%\n",
      "Accuracy for class 2: 83.33%\n",
      "Accuracy for class 3: 67.30%\n",
      "Accuracy for class 4: 68.90%\n"
     ]
    }
   ],
   "source": [
    "print_class_accuracy(all_labels, all_preds, \"Testing\")"
   ]
  }
 ],
 "metadata": {
  "colab": {
   "provenance": []
  },
  "kernelspec": {
   "display_name": "Python 3 (ipykernel)",
   "language": "python",
   "name": "python3"
  },
  "language_info": {
   "codemirror_mode": {
    "name": "ipython",
    "version": 3
   },
   "file_extension": ".py",
   "mimetype": "text/x-python",
   "name": "python",
   "nbconvert_exporter": "python",
   "pygments_lexer": "ipython3",
   "version": "3.11.5"
  }
 },
 "nbformat": 4,
 "nbformat_minor": 5
}
